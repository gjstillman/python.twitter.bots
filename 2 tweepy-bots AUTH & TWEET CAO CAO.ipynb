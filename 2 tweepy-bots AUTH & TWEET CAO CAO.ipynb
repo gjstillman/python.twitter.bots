{
 "cells": [
  {
   "cell_type": "code",
   "execution_count": null,
   "metadata": {},
   "outputs": [],
   "source": [
    "# How to Make a Twitter Bot in Python With Tweepy\n",
    "# Part of having a great Twitter presence involves keeping your account active with new tweets and retweets, following interesting accounts, and quickly replying to your followers’ messages. You can do all this work manually, but that can take a lot of time. Instead, you can rely on a Twitter Bot, a program that automates all or part of your Twitter activity.\n",
    "# In this article, you’ll learn how to:\n",
    "\n",
    "#Improve and automate your interactions with your Twitter audience\n",
    "#Install Tweepy\n",
    "#Sign up as a Twitter developer to use its API\n",
    "#Use Tweepy to invoke the Twitter API\n",
    "#Build Twitter Bots\n",
    "#Deploy the bots to a server using Docker and AWS\n",
    "\n"
   ]
  },
  {
   "cell_type": "code",
   "execution_count": null,
   "metadata": {},
   "outputs": [],
   "source": [
    "### TERMINOLOGIES ###\n",
    "## Projects: They can be used to organize your work based on how you intend to use the Twitter API, manage your access to the API, and also monitor usage. \n",
    "# Each Project contains an App, with which you can generate authentication credentials.\n",
    "## App: An App is any program, tool, or bot, that makes API calls. Twitter grants authentication credentials to apps, not accounts. \n",
    "# Therefore, you need to create an app to be able to make API calls.\n",
    "## Bearer Token: This method is specifically for developers who need read-only access to the Twitter App. It is specific to an App, and it is used to authenticate requests on behalf of your App.\n",
    "## Oauth Key & Oauth Token Secret: Also called the Access Token and Access Secret respectively, they are user-specific credentials used to authenticate OAuth 1.0a API requests.\n",
    "## Consumer Key & Consumer Secret: Also called the API Key and API Secret, it is similar to your Twitter account’s email and password. \n",
    "#  With these two tokens, you can perform any read and write permission on an individual’s account. This is what we need to create a program that tweets from a bot’s account.\n"
   ]
  },
  {
   "cell_type": "code",
   "execution_count": 5,
   "metadata": {},
   "outputs": [],
   "source": [
    "# Using Tweepy \n",
    "# Tweepy is an open source Python package that gives you a very convenient way to access the Twitter API with Python. Tweepy includes a set of classes and methods that represent Twitter’s models and API endpoints, and it transparently handles various implementation details, such as:\n",
    "\n",
    "#Data encoding and decoding\n",
    "#HTTP requests\n",
    "#Results pagination\n",
    "#OAuth authentication\n",
    "#Rate limits\n",
    "#Streams\n",
    "#If you weren’t using Tweepy, then you would have to deal with low-level details having to do with HTTP requests, data serialization, authentication, and rate limits. This could be time consuming and prone to error. Instead, thanks to Tweepy, you can focus on the functionality you want to build.\n",
    "\n",
    "#Almost all the functionality provided by Twitter API can be used through Tweepy. The only current limitation, as of version 3.7.0, is that Direct Messages don’t work properly due to some recent changes in the Twitter API.\n",
    "\n",
    "\n",
    "# INSTALLATION\n",
    "#Tweepy can be installed using pip, a Python package manager. In this article, we’re going to use a virtual environment (virtualenv) for the projects to avoid depending on system-wide packages. \n",
    "#For more information on virtual environments and pip, check out Python Virtual Environments: A Primer and What Is Pip? A Guide for New Pythonistas.\n",
    "#You can get started by creating a project called tweepy-bots. The first step is to create a directory and a virtual environment:\n"
   ]
  },
  {
   "cell_type": "code",
   "execution_count": 40,
   "metadata": {},
   "outputs": [],
   "source": [
    "# INSTALL TWEEPY PACKAGE\n",
    "# pip install tweepy\n",
    "\n",
    "#import packages\n",
    "import tweepy\n",
    "import webbrowser\n",
    "import time"
   ]
  },
  {
   "cell_type": "code",
   "execution_count": 41,
   "metadata": {},
   "outputs": [],
   "source": [
    "## CONSUMER API KEYS FOR BOT2 CAO CAO## \n",
    "#CAO CAO BOT2#\n",
    "consumer_key_cao_cao = \"KEY REMOVED\"   # NEVER EXPOSE KEYS AND AUTH TOKENS IN THE CODE LIKE THIS\n",
    "consumer_secret_cao_cao =\"KEY REMOVED\"   # NEVER EXPOSE KEYS AND AUTH TOKENS IN THE CODE LIKE THIS"
   ]
  },
  {
   "cell_type": "code",
   "execution_count": 42,
   "metadata": {},
   "outputs": [],
   "source": [
    "callback_uri= 'oob' #uses auth handler instead of a web url"
   ]
  },
  {
   "cell_type": "code",
   "execution_count": 43,
   "metadata": {},
   "outputs": [
    {
     "name": "stdout",
     "output_type": "stream",
     "text": [
      "https://api.twitter.com/oauth/authorize?oauth_token=XwKv5QAAAAABO8N8AAABeQ-7VPc\n"
     ]
    }
   ],
   "source": [
    "auth = tweepy.OAuthHandler(consumer_key_cao_cao, consumer_secret_cao_cao, callback_uri)\n",
    "redirect_url = auth.get_authorization_url()\n",
    "print(redirect_url)"
   ]
  },
  {
   "cell_type": "code",
   "execution_count": 44,
   "metadata": {},
   "outputs": [
    {
     "data": {
      "text/plain": [
       "True"
      ]
     },
     "execution_count": 44,
     "metadata": {},
     "output_type": "execute_result"
    }
   ],
   "source": [
    "webbrowser.open(redirect_url)"
   ]
  },
  {
   "cell_type": "code",
   "execution_count": 46,
   "metadata": {},
   "outputs": [
    {
     "name": "stdin",
     "output_type": "stream",
     "text": [
      "What's the pin value?  7990484\n"
     ]
    }
   ],
   "source": [
    "user_pin_input = input(\"What's the pin value? \")"
   ]
  },
  {
   "cell_type": "code",
   "execution_count": 47,
   "metadata": {},
   "outputs": [
    {
     "data": {
      "text/plain": [
       "('1386718712795967489-i2i5PLp2mBXbZ4paLTstaZxFXRUw6E',\n",
       " '5AblumOJGCms00PzJw2ike9q01IUtXNFnLaKlMzRqatp1')"
      ]
     },
     "execution_count": 47,
     "metadata": {},
     "output_type": "execute_result"
    }
   ],
   "source": [
    "auth.get_access_token(user_pin_input)"
   ]
  },
  {
   "cell_type": "code",
   "execution_count": 48,
   "metadata": {},
   "outputs": [
    {
     "name": "stdout",
     "output_type": "stream",
     "text": [
      "1386718712795967489-i2i5PLp2mBXbZ4paLTstaZxFXRUw6E 5AblumOJGCms00PzJw2ike9q01IUtXNFnLaKlMzRqatp1\n"
     ]
    }
   ],
   "source": [
    "print(auth.access_token, auth.access_token_secret) #these will be the same as the user access token UNLESS you regenerate the keys on the twitter dev page"
   ]
  },
  {
   "cell_type": "code",
   "execution_count": 49,
   "metadata": {},
   "outputs": [],
   "source": [
    "api = tweepy.API(auth) #now access is grated to use the tweepy API commands which is basically everything you can do on twitter's pageitself"
   ]
  },
  {
   "cell_type": "code",
   "execution_count": 50,
   "metadata": {},
   "outputs": [
    {
     "name": "stdout",
     "output_type": "stream",
     "text": [
      "cao_cao_bot1\n"
     ]
    }
   ],
   "source": [
    "me = api.me()\n",
    "print(me.screen_name) # checks the currently auth/logged in twitter account"
   ]
  },
  {
   "cell_type": "code",
   "execution_count": 51,
   "metadata": {},
   "outputs": [],
   "source": [
    "### ACTUALLY MAKING TWEETS ###"
   ]
  },
  {
   "cell_type": "code",
   "execution_count": null,
   "metadata": {},
   "outputs": [],
   "source": [
    "## STANDALONE TWEET ##\n",
    "# tweet desc can't be duplicated through the API, will error #\n",
    "api.update_status(\"Hello word from the python tweepy api on Bot2 Cao Cao\") # text for the tweet\n",
    "\n",
    "# checks website for tweet, displays confirmation it really was accepted and posted\n",
    "confirm_tweet_url_kongming = 'https://twitter.com/kongming_bot1'\n",
    "confirm_tweet_url_cao_cao = 'https://twitter.com/cao_cao_bot1'\n",
    "webbrowser.open(confirm_tweet_url_kongming) # open browser to confirm tweet is live and went out as expected on bot1 kongming\n",
    "webbrowser.open(confirm_tweet_url_cao_cao) # open browser to confirm tweet is live and went out as expected on bot2 cao cao"
   ]
  },
  {
   "cell_type": "code",
   "execution_count": 79,
   "metadata": {},
   "outputs": [
    {
     "name": "stdout",
     "output_type": "stream",
     "text": [
      "The last seen tweet id from the txt file is... 1386778986718580741\n"
     ]
    }
   ],
   "source": [
    "## SEARCH FOR TWEETS @ CURRENT BOT USER AND REPLY ##\n",
    "\n",
    "# method in python is similar to a function, except it MUST be called on an object\n",
    "# methods are impiclitly used for an object for which it is called\n",
    "\n",
    "FILE = \"id_replied_tweets_CAO_CAO.txt\"   \n",
    "# this txt file is used to store the most recent tweet @ id's so that the reply code doesn't respond to already responded tweets\n",
    "# the tx file will always store the most recent tweet id the code has identified and then all subsequent tweet id's will be responded to\n",
    "\n",
    "def retrieve_id(FILE):     # reminder to define a function use def, there is no =, equals is only used to create variables\n",
    "    f_read = open(FILE, \"r\")   # prepares to read the txt file\n",
    "    last_seen_id = int(f_read.read().strip())   # creates a variable from the id stored in the txt file, converts to integer \n",
    "    f_read.close()   # closes the txt file, now that we have the last tweet id we don't need the file open\n",
    "    print('The last seen tweet id from the txt file is... ' + str(last_seen_id))   # displays the last tweet id demonstrating it is working as a string (string required for concatenate)\n",
    "    return last_seen_id\n",
    "\n",
    "def store_id(id, FILE):   # defines a function to store and write the most current tweet id into the txt file for future use\n",
    "    f_write = open(FILE, \"w\")   # function to write when the txt file is opened\n",
    "    f_write.write(str(id))   # writes the id as a string\n",
    "    f_write.close()   # closes the txt file, no longer needed\n",
    "    return\n",
    "\n",
    "last_seen_id = retrieve_id(FILE)\n",
    "mentions = api.mentions_timeline(last_seen_id, tweet_mode=\"extended\")   # tweepy and API use 'mentions' to mean tweets using @yourusername\n",
    "\n",
    "for mention in reversed(mentions):\n",
    "    if \"@cao_cao_bot1\" in mention.full_text: # must use LOWER case because all twitter handles are all lowercase\n",
    "        last_seen_id = mention.id\n",
    "        store_id(last_seen_id, FILE)\n",
    "        # api.update_status('I, Cao Cao, will crush you!', mention.id) # example that would just straight tweet out, because without the @twitterusername API doesn't recognize a \n",
    "        api.update_status('@'+mention.user.screen_name + ' I, Cao Cao, will crush you!', mention.id)\n",
    "        print('Replied to @' + mention.user.screen_name + 'tweet that said...')\n",
    "        \n",
    "    "
   ]
  },
  {
   "cell_type": "code",
   "execution_count": 29,
   "metadata": {},
   "outputs": [
    {
     "name": "stdout",
     "output_type": "stream",
     "text": [
      "cao_cao_bot1 1386749239628378120\n"
     ]
    },
    {
     "data": {
      "text/plain": [
       "True"
      ]
     },
     "execution_count": 29,
     "metadata": {},
     "output_type": "execute_result"
    }
   ],
   "source": [
    "# To have the bots tweet back and forth to each other they need a reply chain, to start that reply chain an original tweet is needed for the tweetid\n",
    "\n",
    "# to reply\n",
    "orig_tweet = api.get_status(\"1386749239628378120\")\n",
    "print(orig_tweet.user.screen_name, orig_tweet.id)\n",
    "my_reply = api.update_status(f\"@{orig_tweet.user.screen_name} This is a tweet reply text!\", orig_tweet.id) \n",
    "# the second item is the tweet id that is being replied to \n",
    "# and the @ must identify the original tweet user\n",
    "\n",
    "webbrowser.open(confirm_tweet_url_cao_cao) # open browser to confirm tweet is live and went out as expected on bot2 cao cao"
   ]
  },
  {
   "cell_type": "code",
   "execution_count": null,
   "metadata": {},
   "outputs": [],
   "source": []
  }
 ],
 "metadata": {
  "kernelspec": {
   "display_name": "Python 3",
   "language": "python",
   "name": "python3"
  },
  "language_info": {
   "codemirror_mode": {
    "name": "ipython",
    "version": 3
   },
   "file_extension": ".py",
   "mimetype": "text/x-python",
   "name": "python",
   "nbconvert_exporter": "python",
   "pygments_lexer": "ipython3",
   "version": "3.8.3"
  }
 },
 "nbformat": 4,
 "nbformat_minor": 4
}
