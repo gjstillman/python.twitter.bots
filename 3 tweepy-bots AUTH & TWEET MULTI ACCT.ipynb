{
 "cells": [
  {
   "cell_type": "code",
   "execution_count": null,
   "metadata": {},
   "outputs": [],
   "source": [
    "# How to Make a Twitter Bot in Python With Tweepy\n",
    "# Part of having a great Twitter presence involves keeping your account active with new tweets and retweets, following interesting accounts, and quickly replying to your followers’ messages. You can do all this work manually, but that can take a lot of time. Instead, you can rely on a Twitter Bot, a program that automates all or part of your Twitter activity.\n",
    "# In this article, you’ll learn how to:\n",
    "\n",
    "#Improve and automate your interactions with your Twitter audience\n",
    "#Install Tweepy\n",
    "#Sign up as a Twitter developer to use its API\n",
    "#Use Tweepy to invoke the Twitter API\n",
    "#Build Twitter Bots\n",
    "#Deploy the bots to a server using Docker and AWS\n",
    "\n"
   ]
  },
  {
   "cell_type": "code",
   "execution_count": null,
   "metadata": {},
   "outputs": [],
   "source": [
    "### TERMINOLOGIES ###\n",
    "## Projects: They can be used to organize your work based on how you intend to use the Twitter API, manage your access to the API, and also monitor usage. \n",
    "# Each Project contains an App, with which you can generate authentication credentials.\n",
    "## App: An App is any program, tool, or bot, that makes API calls. Twitter grants authentication credentials to apps, not accounts. \n",
    "# Therefore, you need to create an app to be able to make API calls.\n",
    "## Bearer Token: This method is specifically for developers who need read-only access to the Twitter App. It is specific to an App, and it is used to authenticate requests on behalf of your App.\n",
    "## Oauth Key & Oauth Token Secret: Also called the Access Token and Access Secret respectively, they are user-specific credentials used to authenticate OAuth 1.0a API requests.\n",
    "## Consumer Key & Consumer Secret: Also called the API Key and API Secret, it is similar to your Twitter account’s email and password. \n",
    "#  With these two tokens, you can perform any read and write permission on an individual’s account. This is what we need to create a program that tweets from a bot’s account.\n"
   ]
  },
  {
   "cell_type": "code",
   "execution_count": 5,
   "metadata": {},
   "outputs": [],
   "source": [
    "# Using Tweepy \n",
    "# Tweepy is an open source Python package that gives you a very convenient way to access the Twitter API with Python. Tweepy includes a set of classes and methods that represent Twitter’s models and API endpoints, and it transparently handles various implementation details, such as:\n",
    "\n",
    "#Data encoding and decoding\n",
    "#HTTP requests\n",
    "#Results pagination\n",
    "#OAuth authentication\n",
    "#Rate limits\n",
    "#Streams\n",
    "#If you weren’t using Tweepy, then you would have to deal with low-level details having to do with HTTP requests, data serialization, authentication, and rate limits. This could be time consuming and prone to error. Instead, thanks to Tweepy, you can focus on the functionality you want to build.\n",
    "\n",
    "#Almost all the functionality provided by Twitter API can be used through Tweepy. The only current limitation, as of version 3.7.0, is that Direct Messages don’t work properly due to some recent changes in the Twitter API.\n",
    "\n",
    "\n",
    "# INSTALLATION\n",
    "#Tweepy can be installed using pip, a Python package manager. In this article, we’re going to use a virtual environment (virtualenv) for the projects to avoid depending on system-wide packages. \n",
    "#For more information on virtual environments and pip, check out Python Virtual Environments: A Primer and What Is Pip? A Guide for New Pythonistas.\n",
    "#You can get started by creating a project called tweepy-bots. The first step is to create a directory and a virtual environment:\n"
   ]
  },
  {
   "cell_type": "code",
   "execution_count": 31,
   "metadata": {},
   "outputs": [],
   "source": [
    "# INSTALL TWEEPY PACKAGE\n",
    "# pip install tweepy\n",
    "\n",
    "#import packages\n",
    "import tweepy\n",
    "import webbrowser\n",
    "import time"
   ]
  },
  {
   "cell_type": "code",
   "execution_count": 32,
   "metadata": {},
   "outputs": [],
   "source": [
    "## CONSUMER API KEYS FOR BOT1 KONGMING## \n",
    "#KONGMING BOT1#\n",
    "consumer_key_kongming = \"KEY REMOVED\n",
    "consumer_secret_kongming =\"KEY REMOVED\"\n",
    "\n",
    "#CAO CAO BOT2#\n",
    "consumer_key_cao_cao = \"KEY REMOVED\"\n",
    "consumer_secret_cao_cao =\"KEY REMOVED\""
   ]
  },
  {
   "cell_type": "code",
   "execution_count": 33,
   "metadata": {},
   "outputs": [],
   "source": [
    "callback_uri= 'oob' #uses auth handler instead of a web url"
   ]
  },
  {
   "cell_type": "code",
   "execution_count": 34,
   "metadata": {},
   "outputs": [
    {
     "name": "stdout",
     "output_type": "stream",
     "text": [
      "https://api.twitter.com/oauth/authorize?oauth_token=0-CvPQAAAAABO8B4AAABeQ9fk0o\n"
     ]
    }
   ],
   "source": [
    "auth = tweepy.OAuthHandler(consumer_key_kongming, consumer_secret_kongming, callback_uri)\n",
    "redirect_url = auth.get_authorization_url()\n",
    "print(redirect_url)"
   ]
  },
  {
   "cell_type": "code",
   "execution_count": 35,
   "metadata": {},
   "outputs": [
    {
     "data": {
      "text/plain": [
       "True"
      ]
     },
     "execution_count": 35,
     "metadata": {},
     "output_type": "execute_result"
    }
   ],
   "source": [
    "webbrowser.open(redirect_url)"
   ]
  },
  {
   "cell_type": "code",
   "execution_count": 36,
   "metadata": {},
   "outputs": [
    {
     "name": "stdin",
     "output_type": "stream",
     "text": [
      "What's the pin value?  4687472\n"
     ]
    }
   ],
   "source": [
    "user_pin_input = input(\"What's the pin value? \")"
   ]
  },
  {
   "cell_type": "code",
   "execution_count": 37,
   "metadata": {},
   "outputs": [
    {
     "data": {
      "text/plain": [
       "('1386718712795967489-0vF71T1Ty0SUaoXjihIsObxS8NoPgX',\n",
       " 'OgrL1UO8w7fuQmqNywlvnHl4zR3BEdDC7bJgtpbJKKodE')"
      ]
     },
     "execution_count": 37,
     "metadata": {},
     "output_type": "execute_result"
    }
   ],
   "source": [
    "auth.get_access_token(user_pin_input)"
   ]
  },
  {
   "cell_type": "code",
   "execution_count": 38,
   "metadata": {},
   "outputs": [
    {
     "name": "stdout",
     "output_type": "stream",
     "text": [
      "1386718712795967489-0vF71T1Ty0SUaoXjihIsObxS8NoPgX OgrL1UO8w7fuQmqNywlvnHl4zR3BEdDC7bJgtpbJKKodE\n"
     ]
    }
   ],
   "source": [
    "print(auth.access_token, auth.access_token_secret) #these will be the same as the user access token UNLESS you regenerate the keys on the twitter dev page"
   ]
  },
  {
   "cell_type": "code",
   "execution_count": 39,
   "metadata": {},
   "outputs": [],
   "source": [
    "api = tweepy.API(auth) #now access is grated to use the tweepy API commands which is basically everything you can do on twitter's pageitself"
   ]
  },
  {
   "cell_type": "code",
   "execution_count": 40,
   "metadata": {},
   "outputs": [
    {
     "name": "stdout",
     "output_type": "stream",
     "text": [
      "cao_cao_bot1\n"
     ]
    }
   ],
   "source": [
    "me = api.me()\n",
    "print(me.screen_name) # checks the currently auth/logged in twitter account"
   ]
  },
  {
   "cell_type": "code",
   "execution_count": 41,
   "metadata": {},
   "outputs": [],
   "source": [
    "### ACUTALLY MAKING TWEETS ###"
   ]
  },
  {
   "cell_type": "code",
   "execution_count": 42,
   "metadata": {},
   "outputs": [
    {
     "data": {
      "text/plain": [
       "Status(_api=<tweepy.api.API object at 0x00000151CDC9AF70>, _json={'created_at': 'Mon Apr 26 18:10:09 +0000 2021', 'id': 1386744424328318976, 'id_str': '1386744424328318976', 'text': 'Hello word from the python tweepy api on Bot1 Kongming', 'truncated': False, 'entities': {'hashtags': [], 'symbols': [], 'user_mentions': [], 'urls': []}, 'source': '<a href=\"https://help.twitter.com/en/using-twitter/how-to-tweet#source-labels\" rel=\"nofollow\">KONGMING vs Cao Cao Bot fight</a>', 'in_reply_to_status_id': None, 'in_reply_to_status_id_str': None, 'in_reply_to_user_id': None, 'in_reply_to_user_id_str': None, 'in_reply_to_screen_name': None, 'user': {'id': 1386718712795967489, 'id_str': '1386718712795967489', 'name': 'Cao Cao Bot1', 'screen_name': 'cao_cao_bot1', 'location': '', 'description': 'a', 'url': None, 'entities': {'description': {'urls': []}}, 'protected': False, 'followers_count': 0, 'friends_count': 1, 'listed_count': 0, 'created_at': 'Mon Apr 26 16:28:09 +0000 2021', 'favourites_count': 0, 'utc_offset': None, 'time_zone': None, 'geo_enabled': False, 'verified': False, 'statuses_count': 2, 'lang': None, 'contributors_enabled': False, 'is_translator': False, 'is_translation_enabled': False, 'profile_background_color': 'F5F8FA', 'profile_background_image_url': None, 'profile_background_image_url_https': None, 'profile_background_tile': False, 'profile_image_url': 'http://pbs.twimg.com/profile_images/1386718886909841410/QcNW7150_normal.jpg', 'profile_image_url_https': 'https://pbs.twimg.com/profile_images/1386718886909841410/QcNW7150_normal.jpg', 'profile_link_color': '1DA1F2', 'profile_sidebar_border_color': 'C0DEED', 'profile_sidebar_fill_color': 'DDEEF6', 'profile_text_color': '333333', 'profile_use_background_image': True, 'has_extended_profile': True, 'default_profile': True, 'default_profile_image': False, 'following': False, 'follow_request_sent': False, 'notifications': False, 'translator_type': 'none', 'withheld_in_countries': []}, 'geo': None, 'coordinates': None, 'place': None, 'contributors': None, 'is_quote_status': False, 'retweet_count': 0, 'favorite_count': 0, 'favorited': False, 'retweeted': False, 'lang': 'en'}, created_at=datetime.datetime(2021, 4, 26, 18, 10, 9), id=1386744424328318976, id_str='1386744424328318976', text='Hello word from the python tweepy api on Bot1 Kongming', truncated=False, entities={'hashtags': [], 'symbols': [], 'user_mentions': [], 'urls': []}, source='KONGMING vs Cao Cao Bot fight', source_url='https://help.twitter.com/en/using-twitter/how-to-tweet#source-labels', in_reply_to_status_id=None, in_reply_to_status_id_str=None, in_reply_to_user_id=None, in_reply_to_user_id_str=None, in_reply_to_screen_name=None, author=User(_api=<tweepy.api.API object at 0x00000151CDC9AF70>, _json={'id': 1386718712795967489, 'id_str': '1386718712795967489', 'name': 'Cao Cao Bot1', 'screen_name': 'cao_cao_bot1', 'location': '', 'description': 'a', 'url': None, 'entities': {'description': {'urls': []}}, 'protected': False, 'followers_count': 0, 'friends_count': 1, 'listed_count': 0, 'created_at': 'Mon Apr 26 16:28:09 +0000 2021', 'favourites_count': 0, 'utc_offset': None, 'time_zone': None, 'geo_enabled': False, 'verified': False, 'statuses_count': 2, 'lang': None, 'contributors_enabled': False, 'is_translator': False, 'is_translation_enabled': False, 'profile_background_color': 'F5F8FA', 'profile_background_image_url': None, 'profile_background_image_url_https': None, 'profile_background_tile': False, 'profile_image_url': 'http://pbs.twimg.com/profile_images/1386718886909841410/QcNW7150_normal.jpg', 'profile_image_url_https': 'https://pbs.twimg.com/profile_images/1386718886909841410/QcNW7150_normal.jpg', 'profile_link_color': '1DA1F2', 'profile_sidebar_border_color': 'C0DEED', 'profile_sidebar_fill_color': 'DDEEF6', 'profile_text_color': '333333', 'profile_use_background_image': True, 'has_extended_profile': True, 'default_profile': True, 'default_profile_image': False, 'following': False, 'follow_request_sent': False, 'notifications': False, 'translator_type': 'none', 'withheld_in_countries': []}, id=1386718712795967489, id_str='1386718712795967489', name='Cao Cao Bot1', screen_name='cao_cao_bot1', location='', description='a', url=None, entities={'description': {'urls': []}}, protected=False, followers_count=0, friends_count=1, listed_count=0, created_at=datetime.datetime(2021, 4, 26, 16, 28, 9), favourites_count=0, utc_offset=None, time_zone=None, geo_enabled=False, verified=False, statuses_count=2, lang=None, contributors_enabled=False, is_translator=False, is_translation_enabled=False, profile_background_color='F5F8FA', profile_background_image_url=None, profile_background_image_url_https=None, profile_background_tile=False, profile_image_url='http://pbs.twimg.com/profile_images/1386718886909841410/QcNW7150_normal.jpg', profile_image_url_https='https://pbs.twimg.com/profile_images/1386718886909841410/QcNW7150_normal.jpg', profile_link_color='1DA1F2', profile_sidebar_border_color='C0DEED', profile_sidebar_fill_color='DDEEF6', profile_text_color='333333', profile_use_background_image=True, has_extended_profile=True, default_profile=True, default_profile_image=False, following=False, follow_request_sent=False, notifications=False, translator_type='none', withheld_in_countries=[]), user=User(_api=<tweepy.api.API object at 0x00000151CDC9AF70>, _json={'id': 1386718712795967489, 'id_str': '1386718712795967489', 'name': 'Cao Cao Bot1', 'screen_name': 'cao_cao_bot1', 'location': '', 'description': 'a', 'url': None, 'entities': {'description': {'urls': []}}, 'protected': False, 'followers_count': 0, 'friends_count': 1, 'listed_count': 0, 'created_at': 'Mon Apr 26 16:28:09 +0000 2021', 'favourites_count': 0, 'utc_offset': None, 'time_zone': None, 'geo_enabled': False, 'verified': False, 'statuses_count': 2, 'lang': None, 'contributors_enabled': False, 'is_translator': False, 'is_translation_enabled': False, 'profile_background_color': 'F5F8FA', 'profile_background_image_url': None, 'profile_background_image_url_https': None, 'profile_background_tile': False, 'profile_image_url': 'http://pbs.twimg.com/profile_images/1386718886909841410/QcNW7150_normal.jpg', 'profile_image_url_https': 'https://pbs.twimg.com/profile_images/1386718886909841410/QcNW7150_normal.jpg', 'profile_link_color': '1DA1F2', 'profile_sidebar_border_color': 'C0DEED', 'profile_sidebar_fill_color': 'DDEEF6', 'profile_text_color': '333333', 'profile_use_background_image': True, 'has_extended_profile': True, 'default_profile': True, 'default_profile_image': False, 'following': False, 'follow_request_sent': False, 'notifications': False, 'translator_type': 'none', 'withheld_in_countries': []}, id=1386718712795967489, id_str='1386718712795967489', name='Cao Cao Bot1', screen_name='cao_cao_bot1', location='', description='a', url=None, entities={'description': {'urls': []}}, protected=False, followers_count=0, friends_count=1, listed_count=0, created_at=datetime.datetime(2021, 4, 26, 16, 28, 9), favourites_count=0, utc_offset=None, time_zone=None, geo_enabled=False, verified=False, statuses_count=2, lang=None, contributors_enabled=False, is_translator=False, is_translation_enabled=False, profile_background_color='F5F8FA', profile_background_image_url=None, profile_background_image_url_https=None, profile_background_tile=False, profile_image_url='http://pbs.twimg.com/profile_images/1386718886909841410/QcNW7150_normal.jpg', profile_image_url_https='https://pbs.twimg.com/profile_images/1386718886909841410/QcNW7150_normal.jpg', profile_link_color='1DA1F2', profile_sidebar_border_color='C0DEED', profile_sidebar_fill_color='DDEEF6', profile_text_color='333333', profile_use_background_image=True, has_extended_profile=True, default_profile=True, default_profile_image=False, following=False, follow_request_sent=False, notifications=False, translator_type='none', withheld_in_countries=[]), geo=None, coordinates=None, place=None, contributors=None, is_quote_status=False, retweet_count=0, favorite_count=0, favorited=False, retweeted=False, lang='en')"
      ]
     },
     "execution_count": 42,
     "metadata": {},
     "output_type": "execute_result"
    }
   ],
   "source": [
    "api.update_status(\"Hello word from the python tweepy api on Bot1 Kongming\") # text for the tweet\n"
   ]
  },
  {
   "cell_type": "code",
   "execution_count": 30,
   "metadata": {},
   "outputs": [
    {
     "data": {
      "text/plain": [
       "True"
      ]
     },
     "execution_count": 30,
     "metadata": {},
     "output_type": "execute_result"
    }
   ],
   "source": [
    "confirm_tweet_url_kongming = 'https://twitter.com/kongming_bot1'\n",
    "confirm_tweet_url_cao_cao = 'https://twitter.com/cao_cao_bot1'\n",
    "webbrowser.open(confirm_tweet_url_kongming) # open browser to confirm tweet is live and went out as expected on bot1 kongming\n",
    "webbrowser.open(confirm_tweet_url_cao_cao) # open browser to confirm tweet is live and went out as expected on bot2 cao cao"
   ]
  },
  {
   "cell_type": "code",
   "execution_count": null,
   "metadata": {},
   "outputs": [],
   "source": []
  }
 ],
 "metadata": {
  "kernelspec": {
   "display_name": "Python 3",
   "language": "python",
   "name": "python3"
  },
  "language_info": {
   "codemirror_mode": {
    "name": "ipython",
    "version": 3
   },
   "file_extension": ".py",
   "mimetype": "text/x-python",
   "name": "python",
   "nbconvert_exporter": "python",
   "pygments_lexer": "ipython3",
   "version": "3.8.3"
  }
 },
 "nbformat": 4,
 "nbformat_minor": 4
}
