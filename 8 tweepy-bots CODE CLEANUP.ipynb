{
 "cells": [
  {
   "cell_type": "code",
   "execution_count": null,
   "metadata": {},
   "outputs": [],
   "source": [
    "# How to Make a Twitter Bot in Python With Tweepy\n",
    "# Part of having a great Twitter presence involves keeping your account active with new tweets and retweets, following interesting accounts, and quickly replying to your followers’ messages. You can do all this work manually, but that can take a lot of time. Instead, you can rely on a Twitter Bot, a program that automates all or part of your Twitter activity.\n",
    "# In this article, you’ll learn how to:\n",
    "\n",
    "#Improve and automate your interactions with your Twitter audience\n",
    "#Install Tweepy\n",
    "#Sign up as a Twitter developer to use its API\n",
    "#Use Tweepy to invoke the Twitter API\n",
    "#Build Twitter Bots\n",
    "#Deploy the bots to a server using Docker and AWS\n",
    "\n"
   ]
  },
  {
   "cell_type": "code",
   "execution_count": null,
   "metadata": {},
   "outputs": [],
   "source": [
    "### TERMINOLOGIES ###\n",
    "## Projects: They can be used to organize your work based on how you intend to use the Twitter API, manage your access to the API, and also monitor usage. \n",
    "# Each Project contains an App, with which you can generate authentication credentials.\n",
    "## App: An App is any program, tool, or bot, that makes API calls. Twitter grants authentication credentials to apps, not accounts. \n",
    "# Therefore, you need to create an app to be able to make API calls.\n",
    "## Bearer Token: This method is specifically for developers who need read-only access to the Twitter App. It is specific to an App, and it is used to authenticate requests on behalf of your App.\n",
    "## Oauth Key & Oauth Token Secret: Also called the Access Token and Access Secret respectively, they are user-specific credentials used to authenticate OAuth 1.0a API requests.\n",
    "## Consumer Key & Consumer Secret: Also called the API Key and API Secret, it is similar to your Twitter account’s email and password. \n",
    "#  With these two tokens, you can perform any read and write permission on an individual’s account. This is what we need to create a program that tweets from a bot’s account.\n"
   ]
  },
  {
   "cell_type": "code",
   "execution_count": 5,
   "metadata": {},
   "outputs": [],
   "source": [
    "# Using Tweepy \n",
    "# Tweepy is an open source Python package that gives you a very convenient way to access the Twitter API with Python. Tweepy includes a set of classes and methods that represent Twitter’s models and API endpoints, and it transparently handles various implementation details, such as:\n",
    "\n",
    "#Data encoding and decoding\n",
    "#HTTP requests\n",
    "#Results pagination\n",
    "#OAuth authentication\n",
    "#Rate limits\n",
    "#Streams\n",
    "#If you weren’t using Tweepy, then you would have to deal with low-level details having to do with HTTP requests, data serialization, authentication, and rate limits. This could be time consuming and prone to error. Instead, thanks to Tweepy, you can focus on the functionality you want to build.\n",
    "\n",
    "#Almost all the functionality provided by Twitter API can be used through Tweepy. The only current limitation, as of version 3.7.0, is that Direct Messages don’t work properly due to some recent changes in the Twitter API.\n",
    "\n",
    "\n",
    "# INSTALLATION\n",
    "#Tweepy can be installed using pip, a Python package manager. In this article, we’re going to use a virtual environment (virtualenv) for the projects to avoid depending on system-wide packages. \n",
    "#For more information on virtual environments and pip, check out Python Virtual Environments: A Primer and What Is Pip? A Guide for New Pythonistas.\n",
    "#You can get started by creating a project called tweepy-bots. The first step is to create a directory and a virtual environment:\n"
   ]
  },
  {
   "cell_type": "code",
   "execution_count": 27,
   "metadata": {},
   "outputs": [
    {
     "data": {
      "text/plain": [
       "Status(_api=<tweepy.api.API object at 0x000001EFFC79EBB0>, _json={'created_at': 'Fri May 14 20:15:21 +0000 2021', 'id': 1393298912799199232, 'id_str': '1393298912799199232', 'text': 'Ahhh May 14th, 2021 is a good day to be a twitter bot trying to get on AWS Lambda!', 'truncated': False, 'entities': {'hashtags': [], 'symbols': [], 'user_mentions': [], 'urls': []}, 'source': '<a href=\"https://help.twitter.com/en/using-twitter/how-to-tweet#source-labels\" rel=\"nofollow\">bot_fight_cao_cao</a>', 'in_reply_to_status_id': None, 'in_reply_to_status_id_str': None, 'in_reply_to_user_id': None, 'in_reply_to_user_id_str': None, 'in_reply_to_screen_name': None, 'user': {'id': 1386718712795967489, 'id_str': '1386718712795967489', 'name': 'Cao Cao Bot1', 'screen_name': 'cao_cao_bot1', 'location': '', 'description': 'a', 'url': None, 'entities': {'description': {'urls': []}}, 'protected': False, 'followers_count': 1, 'friends_count': 1, 'listed_count': 0, 'created_at': 'Mon Apr 26 16:28:09 +0000 2021', 'favourites_count': 0, 'utc_offset': None, 'time_zone': None, 'geo_enabled': False, 'verified': False, 'statuses_count': 28, 'lang': None, 'contributors_enabled': False, 'is_translator': False, 'is_translation_enabled': False, 'profile_background_color': 'F5F8FA', 'profile_background_image_url': None, 'profile_background_image_url_https': None, 'profile_background_tile': False, 'profile_image_url': 'http://pbs.twimg.com/profile_images/1386748173436207104/2Z8rLRod_normal.jpg', 'profile_image_url_https': 'https://pbs.twimg.com/profile_images/1386748173436207104/2Z8rLRod_normal.jpg', 'profile_banner_url': 'https://pbs.twimg.com/profile_banners/1386718712795967489/1619461638', 'profile_link_color': '1DA1F2', 'profile_sidebar_border_color': 'C0DEED', 'profile_sidebar_fill_color': 'DDEEF6', 'profile_text_color': '333333', 'profile_use_background_image': True, 'has_extended_profile': True, 'default_profile': True, 'default_profile_image': False, 'following': False, 'follow_request_sent': False, 'notifications': False, 'translator_type': 'none', 'withheld_in_countries': []}, 'geo': None, 'coordinates': None, 'place': None, 'contributors': None, 'is_quote_status': False, 'retweet_count': 0, 'favorite_count': 0, 'favorited': False, 'retweeted': False, 'lang': 'en'}, created_at=datetime.datetime(2021, 5, 14, 20, 15, 21), id=1393298912799199232, id_str='1393298912799199232', text='Ahhh May 14th, 2021 is a good day to be a twitter bot trying to get on AWS Lambda!', truncated=False, entities={'hashtags': [], 'symbols': [], 'user_mentions': [], 'urls': []}, source='bot_fight_cao_cao', source_url='https://help.twitter.com/en/using-twitter/how-to-tweet#source-labels', in_reply_to_status_id=None, in_reply_to_status_id_str=None, in_reply_to_user_id=None, in_reply_to_user_id_str=None, in_reply_to_screen_name=None, author=User(_api=<tweepy.api.API object at 0x000001EFFC79EBB0>, _json={'id': 1386718712795967489, 'id_str': '1386718712795967489', 'name': 'Cao Cao Bot1', 'screen_name': 'cao_cao_bot1', 'location': '', 'description': 'a', 'url': None, 'entities': {'description': {'urls': []}}, 'protected': False, 'followers_count': 1, 'friends_count': 1, 'listed_count': 0, 'created_at': 'Mon Apr 26 16:28:09 +0000 2021', 'favourites_count': 0, 'utc_offset': None, 'time_zone': None, 'geo_enabled': False, 'verified': False, 'statuses_count': 28, 'lang': None, 'contributors_enabled': False, 'is_translator': False, 'is_translation_enabled': False, 'profile_background_color': 'F5F8FA', 'profile_background_image_url': None, 'profile_background_image_url_https': None, 'profile_background_tile': False, 'profile_image_url': 'http://pbs.twimg.com/profile_images/1386748173436207104/2Z8rLRod_normal.jpg', 'profile_image_url_https': 'https://pbs.twimg.com/profile_images/1386748173436207104/2Z8rLRod_normal.jpg', 'profile_banner_url': 'https://pbs.twimg.com/profile_banners/1386718712795967489/1619461638', 'profile_link_color': '1DA1F2', 'profile_sidebar_border_color': 'C0DEED', 'profile_sidebar_fill_color': 'DDEEF6', 'profile_text_color': '333333', 'profile_use_background_image': True, 'has_extended_profile': True, 'default_profile': True, 'default_profile_image': False, 'following': False, 'follow_request_sent': False, 'notifications': False, 'translator_type': 'none', 'withheld_in_countries': []}, id=1386718712795967489, id_str='1386718712795967489', name='Cao Cao Bot1', screen_name='cao_cao_bot1', location='', description='a', url=None, entities={'description': {'urls': []}}, protected=False, followers_count=1, friends_count=1, listed_count=0, created_at=datetime.datetime(2021, 4, 26, 16, 28, 9), favourites_count=0, utc_offset=None, time_zone=None, geo_enabled=False, verified=False, statuses_count=28, lang=None, contributors_enabled=False, is_translator=False, is_translation_enabled=False, profile_background_color='F5F8FA', profile_background_image_url=None, profile_background_image_url_https=None, profile_background_tile=False, profile_image_url='http://pbs.twimg.com/profile_images/1386748173436207104/2Z8rLRod_normal.jpg', profile_image_url_https='https://pbs.twimg.com/profile_images/1386748173436207104/2Z8rLRod_normal.jpg', profile_banner_url='https://pbs.twimg.com/profile_banners/1386718712795967489/1619461638', profile_link_color='1DA1F2', profile_sidebar_border_color='C0DEED', profile_sidebar_fill_color='DDEEF6', profile_text_color='333333', profile_use_background_image=True, has_extended_profile=True, default_profile=True, default_profile_image=False, following=False, follow_request_sent=False, notifications=False, translator_type='none', withheld_in_countries=[]), user=User(_api=<tweepy.api.API object at 0x000001EFFC79EBB0>, _json={'id': 1386718712795967489, 'id_str': '1386718712795967489', 'name': 'Cao Cao Bot1', 'screen_name': 'cao_cao_bot1', 'location': '', 'description': 'a', 'url': None, 'entities': {'description': {'urls': []}}, 'protected': False, 'followers_count': 1, 'friends_count': 1, 'listed_count': 0, 'created_at': 'Mon Apr 26 16:28:09 +0000 2021', 'favourites_count': 0, 'utc_offset': None, 'time_zone': None, 'geo_enabled': False, 'verified': False, 'statuses_count': 28, 'lang': None, 'contributors_enabled': False, 'is_translator': False, 'is_translation_enabled': False, 'profile_background_color': 'F5F8FA', 'profile_background_image_url': None, 'profile_background_image_url_https': None, 'profile_background_tile': False, 'profile_image_url': 'http://pbs.twimg.com/profile_images/1386748173436207104/2Z8rLRod_normal.jpg', 'profile_image_url_https': 'https://pbs.twimg.com/profile_images/1386748173436207104/2Z8rLRod_normal.jpg', 'profile_banner_url': 'https://pbs.twimg.com/profile_banners/1386718712795967489/1619461638', 'profile_link_color': '1DA1F2', 'profile_sidebar_border_color': 'C0DEED', 'profile_sidebar_fill_color': 'DDEEF6', 'profile_text_color': '333333', 'profile_use_background_image': True, 'has_extended_profile': True, 'default_profile': True, 'default_profile_image': False, 'following': False, 'follow_request_sent': False, 'notifications': False, 'translator_type': 'none', 'withheld_in_countries': []}, id=1386718712795967489, id_str='1386718712795967489', name='Cao Cao Bot1', screen_name='cao_cao_bot1', location='', description='a', url=None, entities={'description': {'urls': []}}, protected=False, followers_count=1, friends_count=1, listed_count=0, created_at=datetime.datetime(2021, 4, 26, 16, 28, 9), favourites_count=0, utc_offset=None, time_zone=None, geo_enabled=False, verified=False, statuses_count=28, lang=None, contributors_enabled=False, is_translator=False, is_translation_enabled=False, profile_background_color='F5F8FA', profile_background_image_url=None, profile_background_image_url_https=None, profile_background_tile=False, profile_image_url='http://pbs.twimg.com/profile_images/1386748173436207104/2Z8rLRod_normal.jpg', profile_image_url_https='https://pbs.twimg.com/profile_images/1386748173436207104/2Z8rLRod_normal.jpg', profile_banner_url='https://pbs.twimg.com/profile_banners/1386718712795967489/1619461638', profile_link_color='1DA1F2', profile_sidebar_border_color='C0DEED', profile_sidebar_fill_color='DDEEF6', profile_text_color='333333', profile_use_background_image=True, has_extended_profile=True, default_profile=True, default_profile_image=False, following=False, follow_request_sent=False, notifications=False, translator_type='none', withheld_in_countries=[]), geo=None, coordinates=None, place=None, contributors=None, is_quote_status=False, retweet_count=0, favorite_count=0, favorited=False, retweeted=False, lang='en')"
      ]
     },
     "execution_count": 27,
     "metadata": {},
     "output_type": "execute_result"
    }
   ],
   "source": [
    "# BASIC SCRIPT TO TEST ON AWS LAMBDA\n",
    "# pip install tweepy\n",
    "\n",
    "#import packages\n",
    "import json\n",
    "import tweepy\n",
    "import time\n",
    "\n",
    "# Authenticate to Twitter\n",
    "import config #auth secrets file for git.ignore\n",
    "auth = tweepy.OAuthHandler(config.consumer_key_cao_cao, config.consumer_secret_cao_cao)\n",
    "auth.set_access_token(config.access_token_cao_cao, config.token_secret_cao_cao)\n",
    "\n",
    "# Create API object\n",
    "api = tweepy.API(auth)\n",
    "\n",
    "# Tweet a basic status update\n",
    "api.update_status(\"Ahhh May 14th, 2021 is a good day to be a twitter bot trying to get on AWS Lambda!\")\n",
    "\n"
   ]
  },
  {
   "cell_type": "code",
   "execution_count": 26,
   "metadata": {},
   "outputs": [
    {
     "name": "stdout",
     "output_type": "stream",
     "text": [
      "This is the end for you!\n"
     ]
    },
    {
     "data": {
      "text/plain": [
       "Status(_api=<tweepy.api.API object at 0x000001EFFC7C24C0>, _json={'created_at': 'Fri May 14 20:14:33 +0000 2021', 'id': 1393298711774588938, 'id_str': '1393298711774588938', 'text': 'This is the end for you!', 'truncated': False, 'entities': {'hashtags': [], 'symbols': [], 'user_mentions': [], 'urls': []}, 'source': '<a href=\"https://help.twitter.com/en/using-twitter/how-to-tweet#source-labels\" rel=\"nofollow\">bot_fight_cao_cao</a>', 'in_reply_to_status_id': None, 'in_reply_to_status_id_str': None, 'in_reply_to_user_id': None, 'in_reply_to_user_id_str': None, 'in_reply_to_screen_name': None, 'user': {'id': 1386718712795967489, 'id_str': '1386718712795967489', 'name': 'Cao Cao Bot1', 'screen_name': 'cao_cao_bot1', 'location': '', 'description': 'a', 'url': None, 'entities': {'description': {'urls': []}}, 'protected': False, 'followers_count': 1, 'friends_count': 1, 'listed_count': 0, 'created_at': 'Mon Apr 26 16:28:09 +0000 2021', 'favourites_count': 0, 'utc_offset': None, 'time_zone': None, 'geo_enabled': False, 'verified': False, 'statuses_count': 27, 'lang': None, 'contributors_enabled': False, 'is_translator': False, 'is_translation_enabled': False, 'profile_background_color': 'F5F8FA', 'profile_background_image_url': None, 'profile_background_image_url_https': None, 'profile_background_tile': False, 'profile_image_url': 'http://pbs.twimg.com/profile_images/1386748173436207104/2Z8rLRod_normal.jpg', 'profile_image_url_https': 'https://pbs.twimg.com/profile_images/1386748173436207104/2Z8rLRod_normal.jpg', 'profile_banner_url': 'https://pbs.twimg.com/profile_banners/1386718712795967489/1619461638', 'profile_link_color': '1DA1F2', 'profile_sidebar_border_color': 'C0DEED', 'profile_sidebar_fill_color': 'DDEEF6', 'profile_text_color': '333333', 'profile_use_background_image': True, 'has_extended_profile': True, 'default_profile': True, 'default_profile_image': False, 'following': False, 'follow_request_sent': False, 'notifications': False, 'translator_type': 'none', 'withheld_in_countries': []}, 'geo': None, 'coordinates': None, 'place': None, 'contributors': None, 'is_quote_status': False, 'retweet_count': 0, 'favorite_count': 0, 'favorited': False, 'retweeted': False, 'lang': 'en'}, created_at=datetime.datetime(2021, 5, 14, 20, 14, 33), id=1393298711774588938, id_str='1393298711774588938', text='This is the end for you!', truncated=False, entities={'hashtags': [], 'symbols': [], 'user_mentions': [], 'urls': []}, source='bot_fight_cao_cao', source_url='https://help.twitter.com/en/using-twitter/how-to-tweet#source-labels', in_reply_to_status_id=None, in_reply_to_status_id_str=None, in_reply_to_user_id=None, in_reply_to_user_id_str=None, in_reply_to_screen_name=None, author=User(_api=<tweepy.api.API object at 0x000001EFFC7C24C0>, _json={'id': 1386718712795967489, 'id_str': '1386718712795967489', 'name': 'Cao Cao Bot1', 'screen_name': 'cao_cao_bot1', 'location': '', 'description': 'a', 'url': None, 'entities': {'description': {'urls': []}}, 'protected': False, 'followers_count': 1, 'friends_count': 1, 'listed_count': 0, 'created_at': 'Mon Apr 26 16:28:09 +0000 2021', 'favourites_count': 0, 'utc_offset': None, 'time_zone': None, 'geo_enabled': False, 'verified': False, 'statuses_count': 27, 'lang': None, 'contributors_enabled': False, 'is_translator': False, 'is_translation_enabled': False, 'profile_background_color': 'F5F8FA', 'profile_background_image_url': None, 'profile_background_image_url_https': None, 'profile_background_tile': False, 'profile_image_url': 'http://pbs.twimg.com/profile_images/1386748173436207104/2Z8rLRod_normal.jpg', 'profile_image_url_https': 'https://pbs.twimg.com/profile_images/1386748173436207104/2Z8rLRod_normal.jpg', 'profile_banner_url': 'https://pbs.twimg.com/profile_banners/1386718712795967489/1619461638', 'profile_link_color': '1DA1F2', 'profile_sidebar_border_color': 'C0DEED', 'profile_sidebar_fill_color': 'DDEEF6', 'profile_text_color': '333333', 'profile_use_background_image': True, 'has_extended_profile': True, 'default_profile': True, 'default_profile_image': False, 'following': False, 'follow_request_sent': False, 'notifications': False, 'translator_type': 'none', 'withheld_in_countries': []}, id=1386718712795967489, id_str='1386718712795967489', name='Cao Cao Bot1', screen_name='cao_cao_bot1', location='', description='a', url=None, entities={'description': {'urls': []}}, protected=False, followers_count=1, friends_count=1, listed_count=0, created_at=datetime.datetime(2021, 4, 26, 16, 28, 9), favourites_count=0, utc_offset=None, time_zone=None, geo_enabled=False, verified=False, statuses_count=27, lang=None, contributors_enabled=False, is_translator=False, is_translation_enabled=False, profile_background_color='F5F8FA', profile_background_image_url=None, profile_background_image_url_https=None, profile_background_tile=False, profile_image_url='http://pbs.twimg.com/profile_images/1386748173436207104/2Z8rLRod_normal.jpg', profile_image_url_https='https://pbs.twimg.com/profile_images/1386748173436207104/2Z8rLRod_normal.jpg', profile_banner_url='https://pbs.twimg.com/profile_banners/1386718712795967489/1619461638', profile_link_color='1DA1F2', profile_sidebar_border_color='C0DEED', profile_sidebar_fill_color='DDEEF6', profile_text_color='333333', profile_use_background_image=True, has_extended_profile=True, default_profile=True, default_profile_image=False, following=False, follow_request_sent=False, notifications=False, translator_type='none', withheld_in_countries=[]), user=User(_api=<tweepy.api.API object at 0x000001EFFC7C24C0>, _json={'id': 1386718712795967489, 'id_str': '1386718712795967489', 'name': 'Cao Cao Bot1', 'screen_name': 'cao_cao_bot1', 'location': '', 'description': 'a', 'url': None, 'entities': {'description': {'urls': []}}, 'protected': False, 'followers_count': 1, 'friends_count': 1, 'listed_count': 0, 'created_at': 'Mon Apr 26 16:28:09 +0000 2021', 'favourites_count': 0, 'utc_offset': None, 'time_zone': None, 'geo_enabled': False, 'verified': False, 'statuses_count': 27, 'lang': None, 'contributors_enabled': False, 'is_translator': False, 'is_translation_enabled': False, 'profile_background_color': 'F5F8FA', 'profile_background_image_url': None, 'profile_background_image_url_https': None, 'profile_background_tile': False, 'profile_image_url': 'http://pbs.twimg.com/profile_images/1386748173436207104/2Z8rLRod_normal.jpg', 'profile_image_url_https': 'https://pbs.twimg.com/profile_images/1386748173436207104/2Z8rLRod_normal.jpg', 'profile_banner_url': 'https://pbs.twimg.com/profile_banners/1386718712795967489/1619461638', 'profile_link_color': '1DA1F2', 'profile_sidebar_border_color': 'C0DEED', 'profile_sidebar_fill_color': 'DDEEF6', 'profile_text_color': '333333', 'profile_use_background_image': True, 'has_extended_profile': True, 'default_profile': True, 'default_profile_image': False, 'following': False, 'follow_request_sent': False, 'notifications': False, 'translator_type': 'none', 'withheld_in_countries': []}, id=1386718712795967489, id_str='1386718712795967489', name='Cao Cao Bot1', screen_name='cao_cao_bot1', location='', description='a', url=None, entities={'description': {'urls': []}}, protected=False, followers_count=1, friends_count=1, listed_count=0, created_at=datetime.datetime(2021, 4, 26, 16, 28, 9), favourites_count=0, utc_offset=None, time_zone=None, geo_enabled=False, verified=False, statuses_count=27, lang=None, contributors_enabled=False, is_translator=False, is_translation_enabled=False, profile_background_color='F5F8FA', profile_background_image_url=None, profile_background_image_url_https=None, profile_background_tile=False, profile_image_url='http://pbs.twimg.com/profile_images/1386748173436207104/2Z8rLRod_normal.jpg', profile_image_url_https='https://pbs.twimg.com/profile_images/1386748173436207104/2Z8rLRod_normal.jpg', profile_banner_url='https://pbs.twimg.com/profile_banners/1386718712795967489/1619461638', profile_link_color='1DA1F2', profile_sidebar_border_color='C0DEED', profile_sidebar_fill_color='DDEEF6', profile_text_color='333333', profile_use_background_image=True, has_extended_profile=True, default_profile=True, default_profile_image=False, following=False, follow_request_sent=False, notifications=False, translator_type='none', withheld_in_countries=[]), geo=None, coordinates=None, place=None, contributors=None, is_quote_status=False, retweet_count=0, favorite_count=0, favorited=False, retweeted=False, lang='en')"
      ]
     },
     "execution_count": 26,
     "metadata": {},
     "output_type": "execute_result"
    }
   ],
   "source": [
    "# MORE ADVANCED SCRIPT TO TEST ON AWS LAMBDA with random text selection from cvs\n",
    " # pip install tweepy\n",
    "\n",
    "#import packages\n",
    "import tweepy\n",
    "import webbrowser\n",
    "import time\n",
    "import pandas as pd #load libraries for dataframes. Numpy provides support for multi-dimensional arrays, pandas is used for data analysis.\n",
    "import numpy as np #load libraries for dataframes. Numpy provides support for multi-dimensional arrays, pandas is used for data analysis.\n",
    "\n",
    "# Authenticate to Twitter\n",
    "import config #auth secrets file for git.ignore\n",
    "auth = tweepy.OAuthHandler(config.consumer_key_cao_cao, config.consumer_secret_cao_cao)\n",
    "auth.set_access_token(config.access_token_cao_cao, config.token_secret_cao_cao)\n",
    "\n",
    "# Create API object\n",
    "api = tweepy.API(auth)\n",
    "\n",
    "# loads csv files into dataframes\n",
    "df_initial_insult = pd.read_csv('initial_insult.csv')\n",
    "df_response_insult = pd.read_csv('response_insult.csv')\n",
    "# generic dataframe setup to accomadate potentially huge files\n",
    "pd.set_option('display.max_columns', 55)\n",
    "pd.set_option('display.max_rows', 55)\n",
    "\n",
    "### CALL IN DATA IN A DATAFRAME ####\n",
    "from random import randrange\n",
    "tweet_text = (df_initial_insult.iloc[randrange(210),0])   # using randrange will call a random row in the data frame\n",
    "print(tweet_text)\n",
    "\n",
    "# Tweet a basic status update\n",
    "#api.update_status(\"Ahhh May 14th, 2021 is a good day to be a twitter bot on AWS Lambda!\")\n",
    "# Tweet a random status update\n",
    "api.update_status(tweet_text)\n",
    "\n"
   ]
  },
  {
   "cell_type": "code",
   "execution_count": 13,
   "metadata": {},
   "outputs": [
    {
     "ename": "SyntaxError",
     "evalue": "invalid syntax (<ipython-input-13-5d83eb14de3a>, line 20)",
     "output_type": "error",
     "traceback": [
      "\u001b[1;36m  File \u001b[1;32m\"<ipython-input-13-5d83eb14de3a>\"\u001b[1;36m, line \u001b[1;32m20\u001b[0m\n\u001b[1;33m    build -t my-lambda\u001b[0m\n\u001b[1;37m             ^\u001b[0m\n\u001b[1;31mSyntaxError\u001b[0m\u001b[1;31m:\u001b[0m invalid syntax\n"
     ]
    }
   ],
   "source": [
    "# BASIC SCRIPT TO TEST ON AWS LAMBDA\n",
    "# pip install tweepy\n",
    "\n",
    "#import packages\n",
    "import tweepy\n",
    "import webbrowser\n",
    "import time\n",
    "import pandas as pd #load libraries for dataframes. Numpy provides support for multi-dimensional arrays, pandas is used for data analysis.\n",
    "import numpy as np #load libraries for dataframes. Numpy provides support for multi-dimensional arrays, pandas is used for data analysis.\n",
    "\n",
    "# Authenticate to Twitter\n",
    "import config #auth secrets file for git.ignore\n",
    "auth = tweepy.OAuthHandler(config.consumer_key_cao_cao, config.consumer_secret_cao_cao)\n",
    "auth.set_access_token(config.access_token_cao_cao, config.token_secret_cao_cao)\n",
    "\n",
    "# Create API object\n",
    "api = tweepy.API(auth)\n",
    "\n",
    "# Tweet a basic status update\n",
    "api.update_status(\"Ahhh May 14th, 2021 is a good day to be a twitter bot on AWS Lambda!\")\n",
    "\n",
    "\n",
    "## SEARCH FOR TWEETS @ (MENTIONING) CURRENT BOT USER AND REPLY ##\n",
    "# method in python is similar to a function, except it MUST be called on an object\n",
    "# methods are impiclitly used for an object for which it is called\n",
    "# this txt file is used to store the most recent tweet @ id's so that the reply code doesn't respond to already responded tweets\n",
    "FILE_ID_CAO_CAO = \"id_replied_tweets_CAO_CAO.txt\"   \n",
    "\n",
    "def retrieve_id(FILE_ID_CAO_CAO):     # reminder to define a function use def, there is no =, equals is only used to create variables\n",
    "    f_read = open(FILE_ID_CAO_CAO, \"r\")   # prepares to read the txt file\n",
    "    last_seen_id = int(f_read.read().strip())   # creates a variable from the id stored in the txt file, converts to integer \n",
    "    f_read.close()   # closes the txt file, now that we have the last tweet id we don't need the file open\n",
    "    print('The last seen tweet id from the txt file is... ' + str(last_seen_id))   # displays the last tweet id demonstrating it is working as a string (string required for concatenate)\n",
    "    return last_seen_id\n",
    "\n",
    "def store_id(id, FILE_ID_CAO_CAO):   # defines a function to store and write the most current tweet id into the txt file for future use\n",
    "    f_write = open(FILE_ID_CAO_CAO, \"w\")   # function to write when the txt file is opened\n",
    "    f_write.write(str(id))   # writes the id as a string\n",
    "    f_write.close()   # closes the txt file, no longer needed\n",
    "    return\n",
    "\n",
    "last_seen_id = retrieve_id(FILE_ID_CAO_CAO)\n",
    "mentions = api.mentions_timeline(last_seen_id, tweet_mode=\"extended\")   # tweepy and API use 'mentions' to mean tweets using @yourusername\n",
    "\n",
    "for mention in reversed(mentions):\n",
    "    if \"@cao_cao_bot1\" in mention.full_text: # must use LOWER case because all twitter handles are all lowercase\n",
    "        last_seen_id = mention.id\n",
    "        store_id(last_seen_id, FILE_ID_CAO_CAO)\n",
    "        # api.update_status('I, Cao Cao, will crush you!', mention.id) # example that would just straight tweet out, because without the @twitterusername API doesn't recognize a \n",
    "        api.update_status('@'+mention.user.screen_name + ' I, Cao Cao, will crush you! You are a fool, ' + mention.user.screen_name + ', to try and challange me!', mention.id)\n",
    "        \n",
    "        # fetching the status\n",
    "        status = api.get_status(id)\n",
    "        # fetching the text attribute\n",
    "        text = status.text\n",
    "        print('Replied to @' + mention.user.screen_name + ' tweet that said...' + text)\n",
    "        \n",
    "    \n",
    "### PYTHON DATAFRAMES TUTORIAL - SETUP A DATAFRAME ####\n",
    "## DataFrame Data Type is a 2-dimensional labeled data structure with columns of potentially different types.\n",
    "## Series Data Type is \n",
    "## You can think of it like a spreadsheet or SQL table, or a dict of series objects. It is generally the most commonly used pandas object.\n",
    "# https://pandas.pydata.org/pandas-docs/stable/user_guide/10min.htm\n",
    "\n",
    "# loads csv files into dataframes\n",
    "df_initial_insult = pd.read_csv('initial_insult.csv')\n",
    "df_response_insult = pd.read_csv('response_insult.csv')\n",
    "\n",
    "# generic dataframe setup to accomadate potentially huge files\n",
    "pd.set_option('display.max_columns', 55)\n",
    "pd.set_option('display.max_rows', 55)\n",
    "\n",
    "# display both dataframes in a single cell output using head to preview the first 5 rows (includes header)\n",
    "display(print('df_initial_insult'))\n",
    "display(df_initial_insult.head())\n",
    "display(df_initial_insult.describe())\n",
    "print(\"\\n\" * 2)\n",
    "display(print('df_response_insult'))\n",
    "display(df_response_insult.head())\n",
    "display(df_response_insult.describe())\n",
    "\n",
    "### PYTHON DATAFRAMES TUTORIAL - CALL IN DATA IN A DATAFRAME ####\n",
    "from random import randrange\n",
    "\n",
    "display(df_initial_insult.iloc[0,0])   # df.iloc will call a specific location of data in the data frame\n",
    "display(df_initial_insult.iloc[randrange(210),0])   # using randrange will call a random row in the data frame\n"
   ]
  },
  {
   "cell_type": "code",
   "execution_count": 29,
   "metadata": {},
   "outputs": [
    {
     "name": "stdout",
     "output_type": "stream",
     "text": [
      "df_initial_insult\n"
     ]
    },
    {
     "data": {
      "text/plain": [
       "None"
      ]
     },
     "metadata": {},
     "output_type": "display_data"
    },
    {
     "data": {
      "text/html": [
       "<div>\n",
       "<style scoped>\n",
       "    .dataframe tbody tr th:only-of-type {\n",
       "        vertical-align: middle;\n",
       "    }\n",
       "\n",
       "    .dataframe tbody tr th {\n",
       "        vertical-align: top;\n",
       "    }\n",
       "\n",
       "    .dataframe thead th {\n",
       "        text-align: right;\n",
       "    }\n",
       "</style>\n",
       "<table border=\"1\" class=\"dataframe\">\n",
       "  <thead>\n",
       "    <tr style=\"text-align: right;\">\n",
       "      <th></th>\n",
       "      <th>TEXT</th>\n",
       "      <th>TYPE</th>\n",
       "    </tr>\n",
       "  </thead>\n",
       "  <tbody>\n",
       "    <tr>\n",
       "      <th>0</th>\n",
       "      <td>I will cut out the heart of your formation in ...</td>\n",
       "      <td>ins_gen</td>\n",
       "    </tr>\n",
       "    <tr>\n",
       "      <th>1</th>\n",
       "      <td>I shall revel in your destruction before my Bl...</td>\n",
       "      <td>ins_gen</td>\n",
       "    </tr>\n",
       "    <tr>\n",
       "      <th>2</th>\n",
       "      <td>I see your best is merely textbook military ta...</td>\n",
       "      <td>ins_gen</td>\n",
       "    </tr>\n",
       "    <tr>\n",
       "      <th>3</th>\n",
       "      <td>Die swiftly before my valiant forces!</td>\n",
       "      <td>ins_gen</td>\n",
       "    </tr>\n",
       "    <tr>\n",
       "      <th>4</th>\n",
       "      <td>You are weaking before my Amber Flame strategy!</td>\n",
       "      <td>ins_gen</td>\n",
       "    </tr>\n",
       "  </tbody>\n",
       "</table>\n",
       "</div>"
      ],
      "text/plain": [
       "                                                TEXT     TYPE\n",
       "0  I will cut out the heart of your formation in ...  ins_gen\n",
       "1  I shall revel in your destruction before my Bl...  ins_gen\n",
       "2  I see your best is merely textbook military ta...  ins_gen\n",
       "3              Die swiftly before my valiant forces!  ins_gen\n",
       "4    You are weaking before my Amber Flame strategy!  ins_gen"
      ]
     },
     "metadata": {},
     "output_type": "display_data"
    },
    {
     "data": {
      "text/html": [
       "<div>\n",
       "<style scoped>\n",
       "    .dataframe tbody tr th:only-of-type {\n",
       "        vertical-align: middle;\n",
       "    }\n",
       "\n",
       "    .dataframe tbody tr th {\n",
       "        vertical-align: top;\n",
       "    }\n",
       "\n",
       "    .dataframe thead th {\n",
       "        text-align: right;\n",
       "    }\n",
       "</style>\n",
       "<table border=\"1\" class=\"dataframe\">\n",
       "  <thead>\n",
       "    <tr style=\"text-align: right;\">\n",
       "      <th></th>\n",
       "      <th>TEXT</th>\n",
       "      <th>TYPE</th>\n",
       "    </tr>\n",
       "  </thead>\n",
       "  <tbody>\n",
       "    <tr>\n",
       "      <th>count</th>\n",
       "      <td>210</td>\n",
       "      <td>210</td>\n",
       "    </tr>\n",
       "    <tr>\n",
       "      <th>unique</th>\n",
       "      <td>196</td>\n",
       "      <td>1</td>\n",
       "    </tr>\n",
       "    <tr>\n",
       "      <th>top</th>\n",
       "      <td>Muster your courage – death comes!</td>\n",
       "      <td>ins_gen</td>\n",
       "    </tr>\n",
       "    <tr>\n",
       "      <th>freq</th>\n",
       "      <td>2</td>\n",
       "      <td>210</td>\n",
       "    </tr>\n",
       "  </tbody>\n",
       "</table>\n",
       "</div>"
      ],
      "text/plain": [
       "                                      TEXT     TYPE\n",
       "count                                  210      210\n",
       "unique                                 196        1\n",
       "top     Muster your courage – death comes!  ins_gen\n",
       "freq                                     2      210"
      ]
     },
     "metadata": {},
     "output_type": "display_data"
    },
    {
     "name": "stdout",
     "output_type": "stream",
     "text": [
      "\n",
      "\n",
      "\n",
      "df_response_insult\n"
     ]
    },
    {
     "data": {
      "text/plain": [
       "None"
      ]
     },
     "metadata": {},
     "output_type": "display_data"
    },
    {
     "data": {
      "text/html": [
       "<div>\n",
       "<style scoped>\n",
       "    .dataframe tbody tr th:only-of-type {\n",
       "        vertical-align: middle;\n",
       "    }\n",
       "\n",
       "    .dataframe tbody tr th {\n",
       "        vertical-align: top;\n",
       "    }\n",
       "\n",
       "    .dataframe thead th {\n",
       "        text-align: right;\n",
       "    }\n",
       "</style>\n",
       "<table border=\"1\" class=\"dataframe\">\n",
       "  <thead>\n",
       "    <tr style=\"text-align: right;\">\n",
       "      <th></th>\n",
       "      <th>TEXT</th>\n",
       "      <th>TYPE</th>\n",
       "    </tr>\n",
       "  </thead>\n",
       "  <tbody>\n",
       "    <tr>\n",
       "      <th>0</th>\n",
       "      <td>Your words are as pathetic as you are! A waste...</td>\n",
       "      <td>ins_gen RESPONSE</td>\n",
       "    </tr>\n",
       "    <tr>\n",
       "      <th>1</th>\n",
       "      <td>Blathering and blundering about, right into my...</td>\n",
       "      <td>ins_gen RESPONSE</td>\n",
       "    </tr>\n",
       "    <tr>\n",
       "      <th>2</th>\n",
       "      <td>Shut up and die before my finely deployed forces!</td>\n",
       "      <td>ins_gen RESPONSE</td>\n",
       "    </tr>\n",
       "    <tr>\n",
       "      <th>3</th>\n",
       "      <td>Witness my majestic counter maneuverer!</td>\n",
       "      <td>ins_gen RESPONSE</td>\n",
       "    </tr>\n",
       "    <tr>\n",
       "      <th>4</th>\n",
       "      <td>You dare to speak to me? You have no abilities...</td>\n",
       "      <td>ins_gen RESPONSE</td>\n",
       "    </tr>\n",
       "  </tbody>\n",
       "</table>\n",
       "</div>"
      ],
      "text/plain": [
       "                                                TEXT              TYPE\n",
       "0  Your words are as pathetic as you are! A waste...  ins_gen RESPONSE\n",
       "1  Blathering and blundering about, right into my...  ins_gen RESPONSE\n",
       "2  Shut up and die before my finely deployed forces!  ins_gen RESPONSE\n",
       "3            Witness my majestic counter maneuverer!  ins_gen RESPONSE\n",
       "4  You dare to speak to me? You have no abilities...  ins_gen RESPONSE"
      ]
     },
     "metadata": {},
     "output_type": "display_data"
    },
    {
     "data": {
      "text/html": [
       "<div>\n",
       "<style scoped>\n",
       "    .dataframe tbody tr th:only-of-type {\n",
       "        vertical-align: middle;\n",
       "    }\n",
       "\n",
       "    .dataframe tbody tr th {\n",
       "        vertical-align: top;\n",
       "    }\n",
       "\n",
       "    .dataframe thead th {\n",
       "        text-align: right;\n",
       "    }\n",
       "</style>\n",
       "<table border=\"1\" class=\"dataframe\">\n",
       "  <thead>\n",
       "    <tr style=\"text-align: right;\">\n",
       "      <th></th>\n",
       "      <th>TEXT</th>\n",
       "      <th>TYPE</th>\n",
       "    </tr>\n",
       "  </thead>\n",
       "  <tbody>\n",
       "    <tr>\n",
       "      <th>count</th>\n",
       "      <td>210</td>\n",
       "      <td>210</td>\n",
       "    </tr>\n",
       "    <tr>\n",
       "      <th>unique</th>\n",
       "      <td>185</td>\n",
       "      <td>1</td>\n",
       "    </tr>\n",
       "    <tr>\n",
       "      <th>top</th>\n",
       "      <td>Once you are dead, the silence will be bliss!</td>\n",
       "      <td>ins_gen RESPONSE</td>\n",
       "    </tr>\n",
       "    <tr>\n",
       "      <th>freq</th>\n",
       "      <td>2</td>\n",
       "      <td>210</td>\n",
       "    </tr>\n",
       "  </tbody>\n",
       "</table>\n",
       "</div>"
      ],
      "text/plain": [
       "                                                 TEXT              TYPE\n",
       "count                                             210               210\n",
       "unique                                            185                 1\n",
       "top     Once you are dead, the silence will be bliss!  ins_gen RESPONSE\n",
       "freq                                                2               210"
      ]
     },
     "metadata": {},
     "output_type": "display_data"
    }
   ],
   "source": [
    "### PYTHON DATAFRAMES TUTORIAL - SETUP A DATAFRAME ####\n",
    "## DataFrame Data Type is a 2-dimensional labeled data structure with columns of potentially different types.\n",
    "## Series Data Type is \n",
    "## You can think of it like a spreadsheet or SQL table, or a dict of series objects. It is generally the most commonly used pandas object.\n",
    "# https://pandas.pydata.org/pandas-docs/stable/user_guide/10min.htm\n",
    "\n",
    "\n",
    "# load libraries for dataframes. Numpy provides support for multi-dimensional arrays, pandas is used for data analysis.\n",
    "import pandas as pd\n",
    "import numpy as np\n",
    "\n",
    "# loads csv files into dataframes\n",
    "df_initial_insult = pd.read_csv('initial_insult.csv')\n",
    "df_response_insult = pd.read_csv('response_insult.csv')\n",
    "\n",
    "# generic dataframe setup to accomadate potentially huge files\n",
    "pd.set_option('display.max_columns', 55)\n",
    "pd.set_option('display.max_rows', 55)\n",
    "\n",
    "# display both dataframes in a single cell output using head to preview the first 5 rows (includes header)\n",
    "display(print('df_initial_insult'))\n",
    "display(df_initial_insult.head())\n",
    "display(df_initial_insult.describe())\n",
    "print(\"\\n\" * 2)\n",
    "display(print('df_response_insult'))\n",
    "display(df_response_insult.head())\n",
    "display(df_response_insult.describe())"
   ]
  },
  {
   "cell_type": "code",
   "execution_count": 51,
   "metadata": {},
   "outputs": [
    {
     "data": {
      "text/plain": [
       "'I will cut out the heart of your formation in a single command!'"
      ]
     },
     "metadata": {},
     "output_type": "display_data"
    },
    {
     "data": {
      "text/plain": [
       "'You must be tired by now!'"
      ]
     },
     "metadata": {},
     "output_type": "display_data"
    }
   ],
   "source": [
    "### PYTHON DATAFRAMES TUTORIAL - CALL IN DATA IN A DATAFRAME ####\n",
    "from random import randrange\n",
    "\n",
    "display(df_initial_insult.iloc[0,0])   # df.iloc will call a specific location of data in the data frame\n",
    "display(df_initial_insult.iloc[randrange(210),0])   # using randrange will call a random row in the data frame\n",
    "\n"
   ]
  },
  {
   "cell_type": "code",
   "execution_count": 19,
   "metadata": {},
   "outputs": [
    {
     "data": {
      "text/plain": [
       "'C:\\\\Users\\\\gjstillman\\\\Anaconda3\\\\lib\\\\site-packages\\\\pandas\\\\__init__.py'"
      ]
     },
     "execution_count": 19,
     "metadata": {},
     "output_type": "execute_result"
    }
   ],
   "source": [
    "## CREATING PACKAGES FOR AWS LAMBDA ##\n",
    "import pandas\n",
    "pandas.__file__"
   ]
  },
  {
   "cell_type": "code",
   "execution_count": null,
   "metadata": {},
   "outputs": [],
   "source": []
  },
  {
   "cell_type": "code",
   "execution_count": null,
   "metadata": {},
   "outputs": [],
   "source": []
  }
 ],
 "metadata": {
  "kernelspec": {
   "display_name": "Python 3",
   "language": "python",
   "name": "python3"
  },
  "language_info": {
   "codemirror_mode": {
    "name": "ipython",
    "version": 3
   },
   "file_extension": ".py",
   "mimetype": "text/x-python",
   "name": "python",
   "nbconvert_exporter": "python",
   "pygments_lexer": "ipython3",
   "version": "3.8.3"
  }
 },
 "nbformat": 4,
 "nbformat_minor": 4
}
