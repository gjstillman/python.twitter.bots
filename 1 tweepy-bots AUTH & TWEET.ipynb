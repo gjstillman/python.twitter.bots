{
 "cells": [
  {
   "cell_type": "code",
   "execution_count": null,
   "metadata": {},
   "outputs": [],
   "source": [
    "# How to Make a Twitter Bot in Python With Tweepy\n",
    "# Part of having a great Twitter presence involves keeping your account active with new tweets and retweets, following interesting accounts, and quickly replying to your followers’ messages. You can do all this work manually, but that can take a lot of time. Instead, you can rely on a Twitter Bot, a program that automates all or part of your Twitter activity.\n",
    "# In this article, you’ll learn how to:\n",
    "\n",
    "#Improve and automate your interactions with your Twitter audience\n",
    "#Install Tweepy\n",
    "#Sign up as a Twitter developer to use its API\n",
    "#Use Tweepy to invoke the Twitter API\n",
    "#Build Twitter Bots\n",
    "#Deploy the bots to a server using Docker and AWS\n",
    "\n"
   ]
  },
  {
   "cell_type": "code",
   "execution_count": null,
   "metadata": {},
   "outputs": [],
   "source": [
    "### TERMINOLOGIES ###\n",
    "## Projects: They can be used to organize your work based on how you intend to use the Twitter API, manage your access to the API, and also monitor usage. \n",
    "# Each Project contains an App, with which you can generate authentication credentials.\n",
    "## App: An App is any program, tool, or bot, that makes API calls. Twitter grants authentication credentials to apps, not accounts. \n",
    "# Therefore, you need to create an app to be able to make API calls.\n",
    "## Bearer Token: This method is specifically for developers who need read-only access to the Twitter App. It is specific to an App, and it is used to authenticate requests on behalf of your App.\n",
    "## Oauth Key & Oauth Token Secret: Also called the Access Token and Access Secret respectively, they are user-specific credentials used to authenticate OAuth 1.0a API requests.\n",
    "## Consumer Key & Consumer Secret: Also called the API Key and API Secret, it is similar to your Twitter account’s email and password. \n",
    "#  With these two tokens, you can perform any read and write permission on an individual’s account. This is what we need to create a program that tweets from a bot’s account.\n"
   ]
  },
  {
   "cell_type": "code",
   "execution_count": 5,
   "metadata": {},
   "outputs": [],
   "source": [
    "# Using Tweepy \n",
    "# Tweepy is an open source Python package that gives you a very convenient way to access the Twitter API with Python. Tweepy includes a set of classes and methods that represent Twitter’s models and API endpoints, and it transparently handles various implementation details, such as:\n",
    "\n",
    "#Data encoding and decoding\n",
    "#HTTP requests\n",
    "#Results pagination\n",
    "#OAuth authentication\n",
    "#Rate limits\n",
    "#Streams\n",
    "#If you weren’t using Tweepy, then you would have to deal with low-level details having to do with HTTP requests, data serialization, authentication, and rate limits. This could be time consuming and prone to error. Instead, thanks to Tweepy, you can focus on the functionality you want to build.\n",
    "\n",
    "#Almost all the functionality provided by Twitter API can be used through Tweepy. The only current limitation, as of version 3.7.0, is that Direct Messages don’t work properly due to some recent changes in the Twitter API.\n",
    "\n",
    "\n",
    "# INSTALLATION\n",
    "#Tweepy can be installed using pip, a Python package manager. In this article, we’re going to use a virtual environment (virtualenv) for the projects to avoid depending on system-wide packages. \n",
    "#For more information on virtual environments and pip, check out Python Virtual Environments: A Primer and What Is Pip? A Guide for New Pythonistas.\n",
    "#You can get started by creating a project called tweepy-bots. The first step is to create a directory and a virtual environment:\n"
   ]
  },
  {
   "cell_type": "code",
   "execution_count": 14,
   "metadata": {},
   "outputs": [],
   "source": [
    "# INSTALL TWEEPY PACKAGE\n",
    "# pip install tweepy\n",
    "\n",
    "#import packages\n",
    "import tweepy\n",
    "import webbrowser\n",
    "import time"
   ]
  },
  {
   "cell_type": "code",
   "execution_count": 17,
   "metadata": {},
   "outputs": [],
   "source": [
    "## CONSUMER API KEYS ## \n",
    "consumer_key = \"bBvjXflUMYaGupl6CUFUjK65M\"\n",
    "consumer_secret =\"6yWlHmbltNl696zseq4xvxz7UYu1aSD5cfA4XpBcNxSeEFTEpy\" "
   ]
  },
  {
   "cell_type": "code",
   "execution_count": 18,
   "metadata": {},
   "outputs": [],
   "source": [
    "callback_uri= 'oob' #uses auth handler instead of a web url"
   ]
  },
  {
   "cell_type": "code",
   "execution_count": 23,
   "metadata": {},
   "outputs": [
    {
     "name": "stdout",
     "output_type": "stream",
     "text": [
      "https://api.twitter.com/oauth/authorize?oauth_token=z7DnVgAAAAABO8B4AAABeQ87KHQ\n"
     ]
    }
   ],
   "source": [
    "auth = tweepy.OAuthHandler(consumer_key, consumer_secret, callback_uri)\n",
    "redirect_url = auth.get_authorization_url()\n",
    "print(redirect_url)"
   ]
  },
  {
   "cell_type": "code",
   "execution_count": 24,
   "metadata": {},
   "outputs": [
    {
     "data": {
      "text/plain": [
       "True"
      ]
     },
     "execution_count": 24,
     "metadata": {},
     "output_type": "execute_result"
    }
   ],
   "source": [
    "webbrowser.open(redirect_url)"
   ]
  },
  {
   "cell_type": "code",
   "execution_count": 25,
   "metadata": {},
   "outputs": [
    {
     "name": "stdin",
     "output_type": "stream",
     "text": [
      "What's the pin value?  8964745\n"
     ]
    }
   ],
   "source": [
    "user_pin_input = input(\"What's the pin value? \")"
   ]
  },
  {
   "cell_type": "code",
   "execution_count": 26,
   "metadata": {},
   "outputs": [
    {
     "data": {
      "text/plain": [
       "('1386705089210028035-TjPV1DkYNh8SepD3qfdK6ROvD1PaNa',\n",
       " 'JmVjdkWqpC3k86g2nDceV41aY7JkIPW3aF8FC8vJY4b13')"
      ]
     },
     "execution_count": 26,
     "metadata": {},
     "output_type": "execute_result"
    }
   ],
   "source": [
    "auth.get_access_token(user_pin_input)"
   ]
  },
  {
   "cell_type": "code",
   "execution_count": 27,
   "metadata": {},
   "outputs": [
    {
     "name": "stdout",
     "output_type": "stream",
     "text": [
      "1386705089210028035-TjPV1DkYNh8SepD3qfdK6ROvD1PaNa JmVjdkWqpC3k86g2nDceV41aY7JkIPW3aF8FC8vJY4b13\n"
     ]
    }
   ],
   "source": [
    "print(auth.access_token, auth.access_token_secret) #these will be the same as the user access token UNLESS you regenerate the keys on the twitter dev page"
   ]
  },
  {
   "cell_type": "code",
   "execution_count": 29,
   "metadata": {},
   "outputs": [],
   "source": [
    "api = tweepy.API(auth) #now access is grated to use the tweepy API commands which is basically everything you can do on twitter's pageitself"
   ]
  },
  {
   "cell_type": "code",
   "execution_count": 30,
   "metadata": {},
   "outputs": [
    {
     "name": "stdout",
     "output_type": "stream",
     "text": [
      "kongming_bot1\n"
     ]
    }
   ],
   "source": [
    "me = api.me()\n",
    "print(me.screen_name) # checks the currently auth/logged in twitter account"
   ]
  },
  {
   "cell_type": "code",
   "execution_count": 31,
   "metadata": {},
   "outputs": [],
   "source": [
    "### ACUTALLY MAKING TWEETS ###"
   ]
  },
  {
   "cell_type": "code",
   "execution_count": 32,
   "metadata": {},
   "outputs": [
    {
     "data": {
      "text/plain": [
       "Status(_api=<tweepy.api.API object at 0x000001C0F8C33310>, _json={'created_at': 'Mon Apr 26 17:38:53 +0000 2021', 'id': 1386736555130294273, 'id_str': '1386736555130294273', 'text': 'Hello word from the python tweepy api', 'truncated': False, 'entities': {'hashtags': [], 'symbols': [], 'user_mentions': [], 'urls': []}, 'source': '<a href=\"https://help.twitter.com/en/using-twitter/how-to-tweet#source-labels\" rel=\"nofollow\">KONGMING vs Cao Cao Bot fight</a>', 'in_reply_to_status_id': None, 'in_reply_to_status_id_str': None, 'in_reply_to_user_id': None, 'in_reply_to_user_id_str': None, 'in_reply_to_screen_name': None, 'user': {'id': 1386705089210028035, 'id_str': '1386705089210028035', 'name': 'Kongming Bot1', 'screen_name': 'kongming_bot1', 'location': '', 'description': 'a', 'url': None, 'entities': {'description': {'urls': []}}, 'protected': False, 'followers_count': 0, 'friends_count': 0, 'listed_count': 0, 'created_at': 'Mon Apr 26 15:33:58 +0000 2021', 'favourites_count': 0, 'utc_offset': None, 'time_zone': None, 'geo_enabled': False, 'verified': False, 'statuses_count': 2, 'lang': None, 'contributors_enabled': False, 'is_translator': False, 'is_translation_enabled': False, 'profile_background_color': 'F5F8FA', 'profile_background_image_url': None, 'profile_background_image_url_https': None, 'profile_background_tile': False, 'profile_image_url': 'http://pbs.twimg.com/profile_images/1386716639199178754/zu2ekWP__normal.jpg', 'profile_image_url_https': 'https://pbs.twimg.com/profile_images/1386716639199178754/zu2ekWP__normal.jpg', 'profile_banner_url': 'https://pbs.twimg.com/profile_banners/1386705089210028035/1619454062', 'profile_link_color': '1DA1F2', 'profile_sidebar_border_color': 'C0DEED', 'profile_sidebar_fill_color': 'DDEEF6', 'profile_text_color': '333333', 'profile_use_background_image': True, 'has_extended_profile': True, 'default_profile': True, 'default_profile_image': False, 'following': False, 'follow_request_sent': False, 'notifications': False, 'translator_type': 'none', 'withheld_in_countries': []}, 'geo': None, 'coordinates': None, 'place': None, 'contributors': None, 'is_quote_status': False, 'retweet_count': 0, 'favorite_count': 0, 'favorited': False, 'retweeted': False, 'lang': 'en'}, created_at=datetime.datetime(2021, 4, 26, 17, 38, 53), id=1386736555130294273, id_str='1386736555130294273', text='Hello word from the python tweepy api', truncated=False, entities={'hashtags': [], 'symbols': [], 'user_mentions': [], 'urls': []}, source='KONGMING vs Cao Cao Bot fight', source_url='https://help.twitter.com/en/using-twitter/how-to-tweet#source-labels', in_reply_to_status_id=None, in_reply_to_status_id_str=None, in_reply_to_user_id=None, in_reply_to_user_id_str=None, in_reply_to_screen_name=None, author=User(_api=<tweepy.api.API object at 0x000001C0F8C33310>, _json={'id': 1386705089210028035, 'id_str': '1386705089210028035', 'name': 'Kongming Bot1', 'screen_name': 'kongming_bot1', 'location': '', 'description': 'a', 'url': None, 'entities': {'description': {'urls': []}}, 'protected': False, 'followers_count': 0, 'friends_count': 0, 'listed_count': 0, 'created_at': 'Mon Apr 26 15:33:58 +0000 2021', 'favourites_count': 0, 'utc_offset': None, 'time_zone': None, 'geo_enabled': False, 'verified': False, 'statuses_count': 2, 'lang': None, 'contributors_enabled': False, 'is_translator': False, 'is_translation_enabled': False, 'profile_background_color': 'F5F8FA', 'profile_background_image_url': None, 'profile_background_image_url_https': None, 'profile_background_tile': False, 'profile_image_url': 'http://pbs.twimg.com/profile_images/1386716639199178754/zu2ekWP__normal.jpg', 'profile_image_url_https': 'https://pbs.twimg.com/profile_images/1386716639199178754/zu2ekWP__normal.jpg', 'profile_banner_url': 'https://pbs.twimg.com/profile_banners/1386705089210028035/1619454062', 'profile_link_color': '1DA1F2', 'profile_sidebar_border_color': 'C0DEED', 'profile_sidebar_fill_color': 'DDEEF6', 'profile_text_color': '333333', 'profile_use_background_image': True, 'has_extended_profile': True, 'default_profile': True, 'default_profile_image': False, 'following': False, 'follow_request_sent': False, 'notifications': False, 'translator_type': 'none', 'withheld_in_countries': []}, id=1386705089210028035, id_str='1386705089210028035', name='Kongming Bot1', screen_name='kongming_bot1', location='', description='a', url=None, entities={'description': {'urls': []}}, protected=False, followers_count=0, friends_count=0, listed_count=0, created_at=datetime.datetime(2021, 4, 26, 15, 33, 58), favourites_count=0, utc_offset=None, time_zone=None, geo_enabled=False, verified=False, statuses_count=2, lang=None, contributors_enabled=False, is_translator=False, is_translation_enabled=False, profile_background_color='F5F8FA', profile_background_image_url=None, profile_background_image_url_https=None, profile_background_tile=False, profile_image_url='http://pbs.twimg.com/profile_images/1386716639199178754/zu2ekWP__normal.jpg', profile_image_url_https='https://pbs.twimg.com/profile_images/1386716639199178754/zu2ekWP__normal.jpg', profile_banner_url='https://pbs.twimg.com/profile_banners/1386705089210028035/1619454062', profile_link_color='1DA1F2', profile_sidebar_border_color='C0DEED', profile_sidebar_fill_color='DDEEF6', profile_text_color='333333', profile_use_background_image=True, has_extended_profile=True, default_profile=True, default_profile_image=False, following=False, follow_request_sent=False, notifications=False, translator_type='none', withheld_in_countries=[]), user=User(_api=<tweepy.api.API object at 0x000001C0F8C33310>, _json={'id': 1386705089210028035, 'id_str': '1386705089210028035', 'name': 'Kongming Bot1', 'screen_name': 'kongming_bot1', 'location': '', 'description': 'a', 'url': None, 'entities': {'description': {'urls': []}}, 'protected': False, 'followers_count': 0, 'friends_count': 0, 'listed_count': 0, 'created_at': 'Mon Apr 26 15:33:58 +0000 2021', 'favourites_count': 0, 'utc_offset': None, 'time_zone': None, 'geo_enabled': False, 'verified': False, 'statuses_count': 2, 'lang': None, 'contributors_enabled': False, 'is_translator': False, 'is_translation_enabled': False, 'profile_background_color': 'F5F8FA', 'profile_background_image_url': None, 'profile_background_image_url_https': None, 'profile_background_tile': False, 'profile_image_url': 'http://pbs.twimg.com/profile_images/1386716639199178754/zu2ekWP__normal.jpg', 'profile_image_url_https': 'https://pbs.twimg.com/profile_images/1386716639199178754/zu2ekWP__normal.jpg', 'profile_banner_url': 'https://pbs.twimg.com/profile_banners/1386705089210028035/1619454062', 'profile_link_color': '1DA1F2', 'profile_sidebar_border_color': 'C0DEED', 'profile_sidebar_fill_color': 'DDEEF6', 'profile_text_color': '333333', 'profile_use_background_image': True, 'has_extended_profile': True, 'default_profile': True, 'default_profile_image': False, 'following': False, 'follow_request_sent': False, 'notifications': False, 'translator_type': 'none', 'withheld_in_countries': []}, id=1386705089210028035, id_str='1386705089210028035', name='Kongming Bot1', screen_name='kongming_bot1', location='', description='a', url=None, entities={'description': {'urls': []}}, protected=False, followers_count=0, friends_count=0, listed_count=0, created_at=datetime.datetime(2021, 4, 26, 15, 33, 58), favourites_count=0, utc_offset=None, time_zone=None, geo_enabled=False, verified=False, statuses_count=2, lang=None, contributors_enabled=False, is_translator=False, is_translation_enabled=False, profile_background_color='F5F8FA', profile_background_image_url=None, profile_background_image_url_https=None, profile_background_tile=False, profile_image_url='http://pbs.twimg.com/profile_images/1386716639199178754/zu2ekWP__normal.jpg', profile_image_url_https='https://pbs.twimg.com/profile_images/1386716639199178754/zu2ekWP__normal.jpg', profile_banner_url='https://pbs.twimg.com/profile_banners/1386705089210028035/1619454062', profile_link_color='1DA1F2', profile_sidebar_border_color='C0DEED', profile_sidebar_fill_color='DDEEF6', profile_text_color='333333', profile_use_background_image=True, has_extended_profile=True, default_profile=True, default_profile_image=False, following=False, follow_request_sent=False, notifications=False, translator_type='none', withheld_in_countries=[]), geo=None, coordinates=None, place=None, contributors=None, is_quote_status=False, retweet_count=0, favorite_count=0, favorited=False, retweeted=False, lang='en')"
      ]
     },
     "execution_count": 32,
     "metadata": {},
     "output_type": "execute_result"
    }
   ],
   "source": [
    "api.update_status(\"Hello word from the python tweepy api\")"
   ]
  },
  {
   "cell_type": "code",
   "execution_count": 39,
   "metadata": {},
   "outputs": [
    {
     "data": {
      "text/plain": [
       "['__class__',\n",
       " '__delattr__',\n",
       " '__dict__',\n",
       " '__dir__',\n",
       " '__doc__',\n",
       " '__eq__',\n",
       " '__format__',\n",
       " '__ge__',\n",
       " '__getattribute__',\n",
       " '__gt__',\n",
       " '__hash__',\n",
       " '__init__',\n",
       " '__init_subclass__',\n",
       " '__le__',\n",
       " '__lt__',\n",
       " '__module__',\n",
       " '__ne__',\n",
       " '__new__',\n",
       " '__reduce__',\n",
       " '__reduce_ex__',\n",
       " '__repr__',\n",
       " '__setattr__',\n",
       " '__sizeof__',\n",
       " '__str__',\n",
       " '__subclasshook__',\n",
       " '__weakref__',\n",
       " '_add_list_members',\n",
       " '_lookup_friendships',\n",
       " '_pack_image',\n",
       " '_remove_list_members',\n",
       " '_send_direct_message',\n",
       " 'add_list_member',\n",
       " 'add_list_members',\n",
       " 'api_root',\n",
       " 'auth',\n",
       " 'blocks',\n",
       " 'blocks_ids',\n",
       " 'cache',\n",
       " 'cached_result',\n",
       " 'compression',\n",
       " 'configuration',\n",
       " 'create_block',\n",
       " 'create_favorite',\n",
       " 'create_friendship',\n",
       " 'create_list',\n",
       " 'create_media_metadata',\n",
       " 'create_mute',\n",
       " 'create_saved_search',\n",
       " 'destroy_block',\n",
       " 'destroy_direct_message',\n",
       " 'destroy_favorite',\n",
       " 'destroy_friendship',\n",
       " 'destroy_list',\n",
       " 'destroy_mute',\n",
       " 'destroy_saved_search',\n",
       " 'destroy_status',\n",
       " 'favorites',\n",
       " 'followers',\n",
       " 'followers_ids',\n",
       " 'friends',\n",
       " 'friends_ids',\n",
       " 'friendships_incoming',\n",
       " 'friendships_outgoing',\n",
       " 'geo_id',\n",
       " 'geo_search',\n",
       " 'geo_similar_places',\n",
       " 'get_direct_message',\n",
       " 'get_list',\n",
       " 'get_oembed',\n",
       " 'get_saved_search',\n",
       " 'get_settings',\n",
       " 'get_status',\n",
       " 'get_user',\n",
       " 'home_timeline',\n",
       " 'host',\n",
       " 'last_response',\n",
       " 'list_direct_messages',\n",
       " 'list_members',\n",
       " 'list_subscribers',\n",
       " 'list_timeline',\n",
       " 'lists_all',\n",
       " 'lists_memberships',\n",
       " 'lists_subscriptions',\n",
       " 'lookup_friendships',\n",
       " 'lookup_users',\n",
       " 'me',\n",
       " 'media_upload',\n",
       " 'mentions_timeline',\n",
       " 'mutes',\n",
       " 'mutes_ids',\n",
       " 'parser',\n",
       " 'proxy',\n",
       " 'rate_limit_status',\n",
       " 'related_results',\n",
       " 'remove_list_member',\n",
       " 'remove_list_members',\n",
       " 'report_spam',\n",
       " 'retry_count',\n",
       " 'retry_delay',\n",
       " 'retry_errors',\n",
       " 'retweet',\n",
       " 'retweeters',\n",
       " 'retweets',\n",
       " 'retweets_of_me',\n",
       " 'reverse_geocode',\n",
       " 'saved_searches',\n",
       " 'search',\n",
       " 'search_30_day',\n",
       " 'search_full_archive',\n",
       " 'search_host',\n",
       " 'search_root',\n",
       " 'search_users',\n",
       " 'send_direct_message',\n",
       " 'set_settings',\n",
       " 'show_friendship',\n",
       " 'show_list_member',\n",
       " 'show_list_subscriber',\n",
       " 'statuses_lookup',\n",
       " 'subscribe_list',\n",
       " 'supported_languages',\n",
       " 'timeout',\n",
       " 'trends_available',\n",
       " 'trends_closest',\n",
       " 'trends_place',\n",
       " 'unretweet',\n",
       " 'unsubscribe_list',\n",
       " 'update_list',\n",
       " 'update_profile',\n",
       " 'update_profile_banner',\n",
       " 'update_profile_image',\n",
       " 'update_status',\n",
       " 'update_with_media',\n",
       " 'upload_host',\n",
       " 'upload_root',\n",
       " 'user_timeline',\n",
       " 'verify_credentials',\n",
       " 'wait_on_rate_limit',\n",
       " 'wait_on_rate_limit_notify']"
      ]
     },
     "execution_count": 39,
     "metadata": {},
     "output_type": "execute_result"
    }
   ],
   "source": [
    "dir(api)"
   ]
  },
  {
   "cell_type": "code",
   "execution_count": null,
   "metadata": {},
   "outputs": [],
   "source": []
  }
 ],
 "metadata": {
  "kernelspec": {
   "display_name": "Python 3",
   "language": "python",
   "name": "python3"
  },
  "language_info": {
   "codemirror_mode": {
    "name": "ipython",
    "version": 3
   },
   "file_extension": ".py",
   "mimetype": "text/x-python",
   "name": "python",
   "nbconvert_exporter": "python",
   "pygments_lexer": "ipython3",
   "version": "3.8.3"
  }
 },
 "nbformat": 4,
 "nbformat_minor": 4
}
