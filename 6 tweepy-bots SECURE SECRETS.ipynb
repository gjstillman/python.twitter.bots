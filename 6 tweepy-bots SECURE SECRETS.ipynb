{
 "cells": [
  {
   "cell_type": "code",
   "execution_count": null,
   "metadata": {},
   "outputs": [],
   "source": [
    "# How to Make a Twitter Bot in Python With Tweepy\n",
    "# Part of having a great Twitter presence involves keeping your account active with new tweets and retweets, following interesting accounts, and quickly replying to your followers’ messages. You can do all this work manually, but that can take a lot of time. Instead, you can rely on a Twitter Bot, a program that automates all or part of your Twitter activity.\n",
    "# In this article, you’ll learn how to:\n",
    "\n",
    "#Improve and automate your interactions with your Twitter audience\n",
    "#Install Tweepy\n",
    "#Sign up as a Twitter developer to use its API\n",
    "#Use Tweepy to invoke the Twitter API\n",
    "#Build Twitter Bots\n",
    "#Deploy the bots to a server using Docker and AWS\n",
    "\n"
   ]
  },
  {
   "cell_type": "code",
   "execution_count": null,
   "metadata": {},
   "outputs": [],
   "source": [
    "### TERMINOLOGIES ###\n",
    "## Projects: They can be used to organize your work based on how you intend to use the Twitter API, manage your access to the API, and also monitor usage. \n",
    "# Each Project contains an App, with which you can generate authentication credentials.\n",
    "## App: An App is any program, tool, or bot, that makes API calls. Twitter grants authentication credentials to apps, not accounts. \n",
    "# Therefore, you need to create an app to be able to make API calls.\n",
    "## Bearer Token: This method is specifically for developers who need read-only access to the Twitter App. It is specific to an App, and it is used to authenticate requests on behalf of your App.\n",
    "## Oauth Key & Oauth Token Secret: Also called the Access Token and Access Secret respectively, they are user-specific credentials used to authenticate OAuth 1.0a API requests.\n",
    "## Consumer Key & Consumer Secret: Also called the API Key and API Secret, it is similar to your Twitter account’s email and password. \n",
    "#  With these two tokens, you can perform any read and write permission on an individual’s account. This is what we need to create a program that tweets from a bot’s account.\n"
   ]
  },
  {
   "cell_type": "code",
   "execution_count": 5,
   "metadata": {},
   "outputs": [],
   "source": [
    "# Using Tweepy \n",
    "# Tweepy is an open source Python package that gives you a very convenient way to access the Twitter API with Python. Tweepy includes a set of classes and methods that represent Twitter’s models and API endpoints, and it transparently handles various implementation details, such as:\n",
    "\n",
    "#Data encoding and decoding\n",
    "#HTTP requests\n",
    "#Results pagination\n",
    "#OAuth authentication\n",
    "#Rate limits\n",
    "#Streams\n",
    "#If you weren’t using Tweepy, then you would have to deal with low-level details having to do with HTTP requests, data serialization, authentication, and rate limits. This could be time consuming and prone to error. Instead, thanks to Tweepy, you can focus on the functionality you want to build.\n",
    "\n",
    "#Almost all the functionality provided by Twitter API can be used through Tweepy. The only current limitation, as of version 3.7.0, is that Direct Messages don’t work properly due to some recent changes in the Twitter API.\n",
    "\n",
    "\n",
    "# INSTALLATION\n",
    "#Tweepy can be installed using pip, a Python package manager. In this article, we’re going to use a virtual environment (virtualenv) for the projects to avoid depending on system-wide packages. \n",
    "#For more information on virtual environments and pip, check out Python Virtual Environments: A Primer and What Is Pip? A Guide for New Pythonistas.\n",
    "#You can get started by creating a project called tweepy-bots. The first step is to create a directory and a virtual environment:\n"
   ]
  },
  {
   "cell_type": "code",
   "execution_count": 2,
   "metadata": {},
   "outputs": [],
   "source": [
    "# INSTALL TWEEPY PACKAGE\n",
    "# pip install tweepy\n",
    "\n",
    "#import packages\n",
    "import tweepy\n",
    "import webbrowser\n",
    "import time"
   ]
  },
  {
   "cell_type": "code",
   "execution_count": 3,
   "metadata": {},
   "outputs": [],
   "source": [
    "## CONSUMER API KEYS FOR BOT2 CAO CAO## \n",
    "#CAO CAO BOT2#\n",
    "# consumer_key_cao_cao = \"old key was here\"   # NEVER EXPOSE KEYS AND AUTH TOKENS IN THE CODE LIKE THIS\n",
    "# consumer_secret_cao_cao =\"old key was here\"   # NEVER EXPOSE KEYS AND AUTH TOKENS IN THE CODE LIKE THIS"
   ]
  },
  {
   "cell_type": "code",
   "execution_count": 3,
   "metadata": {},
   "outputs": [],
   "source": [
    "callback_uri= 'oob' #uses auth handler instead of a web url"
   ]
  },
  {
   "cell_type": "code",
   "execution_count": 14,
   "metadata": {},
   "outputs": [
    {
     "name": "stdout",
     "output_type": "stream",
     "text": [
      "https://api.twitter.com/oauth/authorize?oauth_token=SqfhZwAAAAABO8N8AAABeWsuGf8\n"
     ]
    }
   ],
   "source": [
    "import config # config.py file contains the secrets, and is ignored on github upload\n",
    "auth = tweepy.OAuthHandler(config.consumer_key_cao_cao, config.consumer_secret_cao_cao, callback_uri) # config.py file contains the secrets, and is ignored on github upload\n",
    "redirect_url = auth.get_authorization_url()\n",
    "print(redirect_url)"
   ]
  },
  {
   "cell_type": "code",
   "execution_count": 5,
   "metadata": {},
   "outputs": [
    {
     "data": {
      "text/plain": [
       "True"
      ]
     },
     "execution_count": 5,
     "metadata": {},
     "output_type": "execute_result"
    }
   ],
   "source": [
    "webbrowser.open(redirect_url)"
   ]
  },
  {
   "cell_type": "code",
   "execution_count": 7,
   "metadata": {},
   "outputs": [
    {
     "name": "stdin",
     "output_type": "stream",
     "text": [
      "What's the pin value?  1442352\n"
     ]
    }
   ],
   "source": [
    "user_pin_input = input(\"What's the pin value? \")"
   ]
  },
  {
   "cell_type": "code",
   "execution_count": 15,
   "metadata": {},
   "outputs": [
    {
     "ename": "AttributeError",
     "evalue": "module 'config' has no attribute 'user_pin_input'",
     "output_type": "error",
     "traceback": [
      "\u001b[1;31m---------------------------------------------------------------------------\u001b[0m",
      "\u001b[1;31mAttributeError\u001b[0m                            Traceback (most recent call last)",
      "\u001b[1;32m<ipython-input-15-caa38d822755>\u001b[0m in \u001b[0;36m<module>\u001b[1;34m\u001b[0m\n\u001b[1;32m----> 1\u001b[1;33m \u001b[0mauth\u001b[0m\u001b[1;33m.\u001b[0m\u001b[0mget_access_token\u001b[0m\u001b[1;33m(\u001b[0m\u001b[0mconfig\u001b[0m\u001b[1;33m.\u001b[0m\u001b[0muser_pin_input\u001b[0m\u001b[1;33m)\u001b[0m\u001b[1;33m\u001b[0m\u001b[1;33m\u001b[0m\u001b[0m\n\u001b[0m",
      "\u001b[1;31mAttributeError\u001b[0m: module 'config' has no attribute 'user_pin_input'"
     ]
    }
   ],
   "source": [
    "auth.get_access_token(config.user_pin_input)"
   ]
  },
  {
   "cell_type": "code",
   "execution_count": 9,
   "metadata": {},
   "outputs": [
    {
     "name": "stdout",
     "output_type": "stream",
     "text": [
      "1386718712795967489-i2i5PLp2mBXbZ4paLTstaZxFXRUw6E 5AblumOJGCms00PzJw2ike9q01IUtXNFnLaKlMzRqatp1\n"
     ]
    }
   ],
   "source": [
    "print(auth.access_token, auth.access_token_secret) #these will be the same as the user access token UNLESS you regenerate the keys on the twitter dev page"
   ]
  },
  {
   "cell_type": "code",
   "execution_count": 10,
   "metadata": {},
   "outputs": [],
   "source": [
    "api = tweepy.API(auth) #now access is grated to use the tweepy API commands which is basically everything you can do on twitter's page itself"
   ]
  },
  {
   "cell_type": "code",
   "execution_count": 11,
   "metadata": {},
   "outputs": [
    {
     "name": "stdout",
     "output_type": "stream",
     "text": [
      "cao_cao_bot1\n"
     ]
    }
   ],
   "source": [
    "me = api.me()\n",
    "print(me.screen_name) # checks the currently auth/logged in twitter account"
   ]
  },
  {
   "cell_type": "code",
   "execution_count": 12,
   "metadata": {},
   "outputs": [],
   "source": [
    "### ACTUALLY MAKING TWEETS ###"
   ]
  },
  {
   "cell_type": "code",
   "execution_count": 1,
   "metadata": {},
   "outputs": [
    {
     "ename": "NameError",
     "evalue": "name 'api' is not defined",
     "output_type": "error",
     "traceback": [
      "\u001b[1;31m---------------------------------------------------------------------------\u001b[0m",
      "\u001b[1;31mNameError\u001b[0m                                 Traceback (most recent call last)",
      "\u001b[1;32m<ipython-input-1-be4f4d032019>\u001b[0m in \u001b[0;36m<module>\u001b[1;34m\u001b[0m\n\u001b[0;32m      3\u001b[0m \u001b[1;33m\u001b[0m\u001b[0m\n\u001b[0;32m      4\u001b[0m \u001b[1;31m# tweet desc can't be duplicated through the API, will error #\u001b[0m\u001b[1;33m\u001b[0m\u001b[1;33m\u001b[0m\u001b[1;33m\u001b[0m\u001b[0m\n\u001b[1;32m----> 5\u001b[1;33m \u001b[0mapi\u001b[0m\u001b[1;33m.\u001b[0m\u001b[0mupdate_status\u001b[0m\u001b[1;33m(\u001b[0m\u001b[1;34m\"Ahhh May 14th, 2021 is a good day to be a twitter bot\"\u001b[0m\u001b[1;33m)\u001b[0m \u001b[1;31m# text for the tweet\u001b[0m\u001b[1;33m\u001b[0m\u001b[1;33m\u001b[0m\u001b[0m\n\u001b[0m\u001b[0;32m      6\u001b[0m \u001b[1;33m\u001b[0m\u001b[0m\n\u001b[0;32m      7\u001b[0m \u001b[1;31m# checks website for tweet, displays confirmation it really was accepted and posted\u001b[0m\u001b[1;33m\u001b[0m\u001b[1;33m\u001b[0m\u001b[1;33m\u001b[0m\u001b[0m\n",
      "\u001b[1;31mNameError\u001b[0m: name 'api' is not defined"
     ]
    }
   ],
   "source": [
    "### STANDALONE TWEET ###                   \n",
    "## CAO CAO ##\n",
    "\n",
    "# tweet desc can't be duplicated through the API, will error #\n",
    "api.update_status(\"Ahhh May 14th, 2021 is a good day to be a twitter bot\") # text for the tweet\n",
    "\n",
    "# checks website for tweet, displays confirmation it really was accepted and posted\n",
    "confirm_tweet_url_kongming = 'https://twitter.com/kongming_bot1'\n",
    "confirm_tweet_url_cao_cao = 'https://twitter.com/cao_cao_bot1'\n",
    "webbrowser.open(confirm_tweet_url_kongming) # open browser to confirm tweet is live and went out as expected on bot1 kongming\n",
    "webbrowser.open(confirm_tweet_url_cao_cao) # open browser to confirm tweet is live and went out as expected on bot2 cao cao"
   ]
  },
  {
   "cell_type": "code",
   "execution_count": 32,
   "metadata": {},
   "outputs": [
    {
     "name": "stdout",
     "output_type": "stream",
     "text": [
      "The text of the status is : \n",
      "\n",
      "@cao_cao_bot1 Test4\n"
     ]
    }
   ],
   "source": [
    "### VIEW TEXT OF STANDALONE TWEET ###\n",
    "\n",
    "# the ID of the status\n",
    "id = 1387121926959730693\n",
    "  \n",
    "# fetching the status\n",
    "status = api.get_status(id)\n",
    "  \n",
    "# fetching the text attribute\n",
    "text = status.text \n",
    "  \n",
    "print(\"The text of the status is : \\n\\n\" + text)"
   ]
  },
  {
   "cell_type": "code",
   "execution_count": 33,
   "metadata": {},
   "outputs": [
    {
     "name": "stdout",
     "output_type": "stream",
     "text": [
      "The last seen tweet id from the txt file is... 1387124274805317637\n",
      "Replied to @kongming_bot1 tweet that said...@cao_cao_bot1 Test4\n"
     ]
    }
   ],
   "source": [
    "## SEARCH FOR TWEETS @ (MENTIONING) CURRENT BOT USER AND REPLY ##\n",
    "\n",
    "# method in python is similar to a function, except it MUST be called on an object\n",
    "# methods are impiclitly used for an object for which it is called\n",
    "\n",
    "\n",
    "# this txt file is used to store the most recent tweet @ id's so that the reply code doesn't respond to already responded tweets\n",
    "FILE_ID_CAO_CAO = \"id_replied_tweets_CAO_CAO.txt\"   \n",
    "\n",
    "\n",
    "def retrieve_id(FILE_ID_CAO_CAO):     # reminder to define a function use def, there is no =, equals is only used to create variables\n",
    "    f_read = open(FILE_ID_CAO_CAO, \"r\")   # prepares to read the txt file\n",
    "    last_seen_id = int(f_read.read().strip())   # creates a variable from the id stored in the txt file, converts to integer \n",
    "    f_read.close()   # closes the txt file, now that we have the last tweet id we don't need the file open\n",
    "    print('The last seen tweet id from the txt file is... ' + str(last_seen_id))   # displays the last tweet id demonstrating it is working as a string (string required for concatenate)\n",
    "    return last_seen_id\n",
    "\n",
    "\n",
    "def store_id(id, FILE_ID_CAO_CAO):   # defines a function to store and write the most current tweet id into the txt file for future use\n",
    "    f_write = open(FILE_ID_CAO_CAO, \"w\")   # function to write when the txt file is opened\n",
    "    f_write.write(str(id))   # writes the id as a string\n",
    "    f_write.close()   # closes the txt file, no longer needed\n",
    "    return\n",
    "\n",
    "\n",
    "last_seen_id = retrieve_id(FILE_ID_CAO_CAO)\n",
    "mentions = api.mentions_timeline(last_seen_id, tweet_mode=\"extended\")   # tweepy and API use 'mentions' to mean tweets using @yourusername\n",
    "\n",
    "for mention in reversed(mentions):\n",
    "    if \"@cao_cao_bot1\" in mention.full_text: # must use LOWER case because all twitter handles are all lowercase\n",
    "        last_seen_id = mention.id\n",
    "        store_id(last_seen_id, FILE_ID_CAO_CAO)\n",
    "        # api.update_status('I, Cao Cao, will crush you!', mention.id) # example that would just straight tweet out, because without the @twitterusername API doesn't recognize a \n",
    "        api.update_status('@'+mention.user.screen_name + ' I, Cao Cao, will crush you! You are a fool, ' + mention.user.screen_name + ', to try and challange me!', mention.id)\n",
    "        \n",
    "        # fetching the status\n",
    "        status = api.get_status(id)\n",
    "        # fetching the text attribute\n",
    "        text = status.text\n",
    "        print('Replied to @' + mention.user.screen_name + ' tweet that said...' + text)\n",
    "        \n",
    "    "
   ]
  },
  {
   "cell_type": "code",
   "execution_count": 29,
   "metadata": {},
   "outputs": [
    {
     "name": "stdout",
     "output_type": "stream",
     "text": [
      "df_initial_insult\n"
     ]
    },
    {
     "data": {
      "text/plain": [
       "None"
      ]
     },
     "metadata": {},
     "output_type": "display_data"
    },
    {
     "data": {
      "text/html": [
       "<div>\n",
       "<style scoped>\n",
       "    .dataframe tbody tr th:only-of-type {\n",
       "        vertical-align: middle;\n",
       "    }\n",
       "\n",
       "    .dataframe tbody tr th {\n",
       "        vertical-align: top;\n",
       "    }\n",
       "\n",
       "    .dataframe thead th {\n",
       "        text-align: right;\n",
       "    }\n",
       "</style>\n",
       "<table border=\"1\" class=\"dataframe\">\n",
       "  <thead>\n",
       "    <tr style=\"text-align: right;\">\n",
       "      <th></th>\n",
       "      <th>TEXT</th>\n",
       "      <th>TYPE</th>\n",
       "    </tr>\n",
       "  </thead>\n",
       "  <tbody>\n",
       "    <tr>\n",
       "      <th>0</th>\n",
       "      <td>I will cut out the heart of your formation in ...</td>\n",
       "      <td>ins_gen</td>\n",
       "    </tr>\n",
       "    <tr>\n",
       "      <th>1</th>\n",
       "      <td>I shall revel in your destruction before my Bl...</td>\n",
       "      <td>ins_gen</td>\n",
       "    </tr>\n",
       "    <tr>\n",
       "      <th>2</th>\n",
       "      <td>I see your best is merely textbook military ta...</td>\n",
       "      <td>ins_gen</td>\n",
       "    </tr>\n",
       "    <tr>\n",
       "      <th>3</th>\n",
       "      <td>Die swiftly before my valiant forces!</td>\n",
       "      <td>ins_gen</td>\n",
       "    </tr>\n",
       "    <tr>\n",
       "      <th>4</th>\n",
       "      <td>You are weaking before my Amber Flame strategy!</td>\n",
       "      <td>ins_gen</td>\n",
       "    </tr>\n",
       "  </tbody>\n",
       "</table>\n",
       "</div>"
      ],
      "text/plain": [
       "                                                TEXT     TYPE\n",
       "0  I will cut out the heart of your formation in ...  ins_gen\n",
       "1  I shall revel in your destruction before my Bl...  ins_gen\n",
       "2  I see your best is merely textbook military ta...  ins_gen\n",
       "3              Die swiftly before my valiant forces!  ins_gen\n",
       "4    You are weaking before my Amber Flame strategy!  ins_gen"
      ]
     },
     "metadata": {},
     "output_type": "display_data"
    },
    {
     "data": {
      "text/html": [
       "<div>\n",
       "<style scoped>\n",
       "    .dataframe tbody tr th:only-of-type {\n",
       "        vertical-align: middle;\n",
       "    }\n",
       "\n",
       "    .dataframe tbody tr th {\n",
       "        vertical-align: top;\n",
       "    }\n",
       "\n",
       "    .dataframe thead th {\n",
       "        text-align: right;\n",
       "    }\n",
       "</style>\n",
       "<table border=\"1\" class=\"dataframe\">\n",
       "  <thead>\n",
       "    <tr style=\"text-align: right;\">\n",
       "      <th></th>\n",
       "      <th>TEXT</th>\n",
       "      <th>TYPE</th>\n",
       "    </tr>\n",
       "  </thead>\n",
       "  <tbody>\n",
       "    <tr>\n",
       "      <th>count</th>\n",
       "      <td>210</td>\n",
       "      <td>210</td>\n",
       "    </tr>\n",
       "    <tr>\n",
       "      <th>unique</th>\n",
       "      <td>196</td>\n",
       "      <td>1</td>\n",
       "    </tr>\n",
       "    <tr>\n",
       "      <th>top</th>\n",
       "      <td>Muster your courage – death comes!</td>\n",
       "      <td>ins_gen</td>\n",
       "    </tr>\n",
       "    <tr>\n",
       "      <th>freq</th>\n",
       "      <td>2</td>\n",
       "      <td>210</td>\n",
       "    </tr>\n",
       "  </tbody>\n",
       "</table>\n",
       "</div>"
      ],
      "text/plain": [
       "                                      TEXT     TYPE\n",
       "count                                  210      210\n",
       "unique                                 196        1\n",
       "top     Muster your courage – death comes!  ins_gen\n",
       "freq                                     2      210"
      ]
     },
     "metadata": {},
     "output_type": "display_data"
    },
    {
     "name": "stdout",
     "output_type": "stream",
     "text": [
      "\n",
      "\n",
      "\n",
      "df_response_insult\n"
     ]
    },
    {
     "data": {
      "text/plain": [
       "None"
      ]
     },
     "metadata": {},
     "output_type": "display_data"
    },
    {
     "data": {
      "text/html": [
       "<div>\n",
       "<style scoped>\n",
       "    .dataframe tbody tr th:only-of-type {\n",
       "        vertical-align: middle;\n",
       "    }\n",
       "\n",
       "    .dataframe tbody tr th {\n",
       "        vertical-align: top;\n",
       "    }\n",
       "\n",
       "    .dataframe thead th {\n",
       "        text-align: right;\n",
       "    }\n",
       "</style>\n",
       "<table border=\"1\" class=\"dataframe\">\n",
       "  <thead>\n",
       "    <tr style=\"text-align: right;\">\n",
       "      <th></th>\n",
       "      <th>TEXT</th>\n",
       "      <th>TYPE</th>\n",
       "    </tr>\n",
       "  </thead>\n",
       "  <tbody>\n",
       "    <tr>\n",
       "      <th>0</th>\n",
       "      <td>Your words are as pathetic as you are! A waste...</td>\n",
       "      <td>ins_gen RESPONSE</td>\n",
       "    </tr>\n",
       "    <tr>\n",
       "      <th>1</th>\n",
       "      <td>Blathering and blundering about, right into my...</td>\n",
       "      <td>ins_gen RESPONSE</td>\n",
       "    </tr>\n",
       "    <tr>\n",
       "      <th>2</th>\n",
       "      <td>Shut up and die before my finely deployed forces!</td>\n",
       "      <td>ins_gen RESPONSE</td>\n",
       "    </tr>\n",
       "    <tr>\n",
       "      <th>3</th>\n",
       "      <td>Witness my majestic counter maneuverer!</td>\n",
       "      <td>ins_gen RESPONSE</td>\n",
       "    </tr>\n",
       "    <tr>\n",
       "      <th>4</th>\n",
       "      <td>You dare to speak to me? You have no abilities...</td>\n",
       "      <td>ins_gen RESPONSE</td>\n",
       "    </tr>\n",
       "  </tbody>\n",
       "</table>\n",
       "</div>"
      ],
      "text/plain": [
       "                                                TEXT              TYPE\n",
       "0  Your words are as pathetic as you are! A waste...  ins_gen RESPONSE\n",
       "1  Blathering and blundering about, right into my...  ins_gen RESPONSE\n",
       "2  Shut up and die before my finely deployed forces!  ins_gen RESPONSE\n",
       "3            Witness my majestic counter maneuverer!  ins_gen RESPONSE\n",
       "4  You dare to speak to me? You have no abilities...  ins_gen RESPONSE"
      ]
     },
     "metadata": {},
     "output_type": "display_data"
    },
    {
     "data": {
      "text/html": [
       "<div>\n",
       "<style scoped>\n",
       "    .dataframe tbody tr th:only-of-type {\n",
       "        vertical-align: middle;\n",
       "    }\n",
       "\n",
       "    .dataframe tbody tr th {\n",
       "        vertical-align: top;\n",
       "    }\n",
       "\n",
       "    .dataframe thead th {\n",
       "        text-align: right;\n",
       "    }\n",
       "</style>\n",
       "<table border=\"1\" class=\"dataframe\">\n",
       "  <thead>\n",
       "    <tr style=\"text-align: right;\">\n",
       "      <th></th>\n",
       "      <th>TEXT</th>\n",
       "      <th>TYPE</th>\n",
       "    </tr>\n",
       "  </thead>\n",
       "  <tbody>\n",
       "    <tr>\n",
       "      <th>count</th>\n",
       "      <td>210</td>\n",
       "      <td>210</td>\n",
       "    </tr>\n",
       "    <tr>\n",
       "      <th>unique</th>\n",
       "      <td>185</td>\n",
       "      <td>1</td>\n",
       "    </tr>\n",
       "    <tr>\n",
       "      <th>top</th>\n",
       "      <td>Once you are dead, the silence will be bliss!</td>\n",
       "      <td>ins_gen RESPONSE</td>\n",
       "    </tr>\n",
       "    <tr>\n",
       "      <th>freq</th>\n",
       "      <td>2</td>\n",
       "      <td>210</td>\n",
       "    </tr>\n",
       "  </tbody>\n",
       "</table>\n",
       "</div>"
      ],
      "text/plain": [
       "                                                 TEXT              TYPE\n",
       "count                                             210               210\n",
       "unique                                            185                 1\n",
       "top     Once you are dead, the silence will be bliss!  ins_gen RESPONSE\n",
       "freq                                                2               210"
      ]
     },
     "metadata": {},
     "output_type": "display_data"
    }
   ],
   "source": [
    "### PYTHON DATAFRAMES TUTORIAL - SETUP A DATAFRAME ####\n",
    "## DataFrame Data Type is a 2-dimensional labeled data structure with columns of potentially different types.\n",
    "## Series Data Type is \n",
    "## You can think of it like a spreadsheet or SQL table, or a dict of series objects. It is generally the most commonly used pandas object.\n",
    "# https://pandas.pydata.org/pandas-docs/stable/user_guide/10min.htm\n",
    "\n",
    "\n",
    "# load libraries for dataframes. Numpy provides support for multi-dimensional arrays, pandas is used for data analysis.\n",
    "import pandas as pd\n",
    "import numpy as np\n",
    "\n",
    "# loads csv files into dataframes\n",
    "df_initial_insult = pd.read_csv('initial_insult.csv')\n",
    "df_response_insult = pd.read_csv('response_insult.csv')\n",
    "\n",
    "# generic dataframe setup to accomadate potentially huge files\n",
    "pd.set_option('display.max_columns', 55)\n",
    "pd.set_option('display.max_rows', 55)\n",
    "\n",
    "# display both dataframes in a single cell output using head to preview the first 5 rows (includes header)\n",
    "display(print('df_initial_insult'))\n",
    "display(df_initial_insult.head())\n",
    "display(df_initial_insult.describe())\n",
    "print(\"\\n\" * 2)\n",
    "display(print('df_response_insult'))\n",
    "display(df_response_insult.head())\n",
    "display(df_response_insult.describe())"
   ]
  },
  {
   "cell_type": "code",
   "execution_count": 51,
   "metadata": {},
   "outputs": [
    {
     "data": {
      "text/plain": [
       "'I will cut out the heart of your formation in a single command!'"
      ]
     },
     "metadata": {},
     "output_type": "display_data"
    },
    {
     "data": {
      "text/plain": [
       "'You must be tired by now!'"
      ]
     },
     "metadata": {},
     "output_type": "display_data"
    }
   ],
   "source": [
    "### PYTHON DATAFRAMES TUTORIAL - CALL IN DATA IN A DATAFRAME ####\n",
    "from random import randrange\n",
    "\n",
    "display(df_initial_insult.iloc[0,0])   # df.iloc will call a specific location of data in the data frame\n",
    "display(df_initial_insult.iloc[randrange(210),0])   # using randrange will call a random row in the data frame\n",
    "\n"
   ]
  },
  {
   "cell_type": "code",
   "execution_count": null,
   "metadata": {},
   "outputs": [],
   "source": []
  },
  {
   "cell_type": "code",
   "execution_count": null,
   "metadata": {},
   "outputs": [],
   "source": []
  },
  {
   "cell_type": "code",
   "execution_count": null,
   "metadata": {},
   "outputs": [],
   "source": []
  }
 ],
 "metadata": {
  "kernelspec": {
   "display_name": "Python 3",
   "language": "python",
   "name": "python3"
  },
  "language_info": {
   "codemirror_mode": {
    "name": "ipython",
    "version": 3
   },
   "file_extension": ".py",
   "mimetype": "text/x-python",
   "name": "python",
   "nbconvert_exporter": "python",
   "pygments_lexer": "ipython3",
   "version": "3.8.3"
  }
 },
 "nbformat": 4,
 "nbformat_minor": 4
}
